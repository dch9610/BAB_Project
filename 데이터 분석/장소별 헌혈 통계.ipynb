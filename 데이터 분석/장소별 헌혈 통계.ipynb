{
 "cells": [
  {
   "cell_type": "code",
   "execution_count": 137,
   "metadata": {},
   "outputs": [],
   "source": [
    "import pandas as pd\n",
    "import numpy as np\n",
    "import matplotlib.pyplot as plt\n",
    "import datetime\n",
    "import seaborn as sns\n",
    "import sys\n",
    "\n",
    "\n",
    "# 그래프 설정\n",
    "# plt.rcParams['font.family'] = 'Malgun Gothic'\n",
    "plt.rcParams['font.family'] = 'AppleGothic'\n",
    "plt.rcParams['font.size'] = 16\n",
    "plt.rcParams['figure.figsize'] = 20, 10\n",
    "plt.rcParams['axes.unicode_minus'] = False\n"
   ]
  },
  {
   "cell_type": "markdown",
   "metadata": {},
   "source": [
    "## 데이터 불러오기"
   ]
  },
  {
   "cell_type": "code",
   "execution_count": 138,
   "metadata": {
    "scrolled": true
   },
   "outputs": [
    {
     "output_type": "execute_result",
     "data": {
      "text/plain": [
       "   혈액원별(1)  혈액원별(2)  성별(1)       소계     소계.1     소계.2    고등학교   고등학교.1  \\\n",
       "0  혈액원별(1)  혈액원별(2)  성별(1)       합계     단체헌혈     단체헌혈    단체헌혈     단체헌혈   \n",
       "1  혈액원별(1)  혈액원별(2)  성별(1)     2005     2005     2005    2005     2005   \n",
       "2  혈액원별(1)  혈액원별(2)  성별(1)   실적 (건)   실적 (건)  구성비 (%)  실적 (건)  구성비 (%)   \n",
       "3       합계       소계      계  2274336  1209466     53.2  293838     12.9   \n",
       "4       합계       소계      남  1831613  1076221     58.8  215765     11.8   \n",
       "\n",
       "      대학교    대학교.1  ... 일반단체.28  일반단체.29    소계.73    소계.74   원내.28    원내.29  \\\n",
       "0    단체헌혈     단체헌혈  ...    단체헌혈     단체헌혈     개인헌혈     개인헌혈    개인헌혈     개인헌혈   \n",
       "1    2005     2005  ...    2019     2019     2019     2019    2019     2019   \n",
       "2  실적 (건)  구성비 (%)  ...  실적 (건)  구성비 (%)   실적 (건)  구성비 (%)  실적 (건)  구성비 (%)   \n",
       "3  101838      4.5  ...  156537      5.6  1917840     68.7   41909      1.5   \n",
       "4   76161      4.2  ...  118799      5.8  1351342     66.4   32380      1.6   \n",
       "\n",
       "   헌혈의집.28  헌혈의집.29   가두.28    가두.29  \n",
       "0     개인헌혈     개인헌혈    개인헌혈     개인헌혈  \n",
       "1     2019     2019    2019     2019  \n",
       "2   실적 (건)  구성비 (%)  실적 (건)  구성비 (%)  \n",
       "3  1870399       67    5532      0.2  \n",
       "4  1314974     64.6    3988      0.2  \n",
       "\n",
       "[5 rows x 318 columns]"
      ],
      "text/html": "<div>\n<style scoped>\n    .dataframe tbody tr th:only-of-type {\n        vertical-align: middle;\n    }\n\n    .dataframe tbody tr th {\n        vertical-align: top;\n    }\n\n    .dataframe thead th {\n        text-align: right;\n    }\n</style>\n<table border=\"1\" class=\"dataframe\">\n  <thead>\n    <tr style=\"text-align: right;\">\n      <th></th>\n      <th>혈액원별(1)</th>\n      <th>혈액원별(2)</th>\n      <th>성별(1)</th>\n      <th>소계</th>\n      <th>소계.1</th>\n      <th>소계.2</th>\n      <th>고등학교</th>\n      <th>고등학교.1</th>\n      <th>대학교</th>\n      <th>대학교.1</th>\n      <th>...</th>\n      <th>일반단체.28</th>\n      <th>일반단체.29</th>\n      <th>소계.73</th>\n      <th>소계.74</th>\n      <th>원내.28</th>\n      <th>원내.29</th>\n      <th>헌혈의집.28</th>\n      <th>헌혈의집.29</th>\n      <th>가두.28</th>\n      <th>가두.29</th>\n    </tr>\n  </thead>\n  <tbody>\n    <tr>\n      <th>0</th>\n      <td>혈액원별(1)</td>\n      <td>혈액원별(2)</td>\n      <td>성별(1)</td>\n      <td>합계</td>\n      <td>단체헌혈</td>\n      <td>단체헌혈</td>\n      <td>단체헌혈</td>\n      <td>단체헌혈</td>\n      <td>단체헌혈</td>\n      <td>단체헌혈</td>\n      <td>...</td>\n      <td>단체헌혈</td>\n      <td>단체헌혈</td>\n      <td>개인헌혈</td>\n      <td>개인헌혈</td>\n      <td>개인헌혈</td>\n      <td>개인헌혈</td>\n      <td>개인헌혈</td>\n      <td>개인헌혈</td>\n      <td>개인헌혈</td>\n      <td>개인헌혈</td>\n    </tr>\n    <tr>\n      <th>1</th>\n      <td>혈액원별(1)</td>\n      <td>혈액원별(2)</td>\n      <td>성별(1)</td>\n      <td>2005</td>\n      <td>2005</td>\n      <td>2005</td>\n      <td>2005</td>\n      <td>2005</td>\n      <td>2005</td>\n      <td>2005</td>\n      <td>...</td>\n      <td>2019</td>\n      <td>2019</td>\n      <td>2019</td>\n      <td>2019</td>\n      <td>2019</td>\n      <td>2019</td>\n      <td>2019</td>\n      <td>2019</td>\n      <td>2019</td>\n      <td>2019</td>\n    </tr>\n    <tr>\n      <th>2</th>\n      <td>혈액원별(1)</td>\n      <td>혈액원별(2)</td>\n      <td>성별(1)</td>\n      <td>실적 (건)</td>\n      <td>실적 (건)</td>\n      <td>구성비 (%)</td>\n      <td>실적 (건)</td>\n      <td>구성비 (%)</td>\n      <td>실적 (건)</td>\n      <td>구성비 (%)</td>\n      <td>...</td>\n      <td>실적 (건)</td>\n      <td>구성비 (%)</td>\n      <td>실적 (건)</td>\n      <td>구성비 (%)</td>\n      <td>실적 (건)</td>\n      <td>구성비 (%)</td>\n      <td>실적 (건)</td>\n      <td>구성비 (%)</td>\n      <td>실적 (건)</td>\n      <td>구성비 (%)</td>\n    </tr>\n    <tr>\n      <th>3</th>\n      <td>합계</td>\n      <td>소계</td>\n      <td>계</td>\n      <td>2274336</td>\n      <td>1209466</td>\n      <td>53.2</td>\n      <td>293838</td>\n      <td>12.9</td>\n      <td>101838</td>\n      <td>4.5</td>\n      <td>...</td>\n      <td>156537</td>\n      <td>5.6</td>\n      <td>1917840</td>\n      <td>68.7</td>\n      <td>41909</td>\n      <td>1.5</td>\n      <td>1870399</td>\n      <td>67</td>\n      <td>5532</td>\n      <td>0.2</td>\n    </tr>\n    <tr>\n      <th>4</th>\n      <td>합계</td>\n      <td>소계</td>\n      <td>남</td>\n      <td>1831613</td>\n      <td>1076221</td>\n      <td>58.8</td>\n      <td>215765</td>\n      <td>11.8</td>\n      <td>76161</td>\n      <td>4.2</td>\n      <td>...</td>\n      <td>118799</td>\n      <td>5.8</td>\n      <td>1351342</td>\n      <td>66.4</td>\n      <td>32380</td>\n      <td>1.6</td>\n      <td>1314974</td>\n      <td>64.6</td>\n      <td>3988</td>\n      <td>0.2</td>\n    </tr>\n  </tbody>\n</table>\n<p>5 rows × 318 columns</p>\n</div>"
     },
     "metadata": {},
     "execution_count": 138
    }
   ],
   "source": [
    "# 윈도우에서 엑셀로 파일을 열고 저장하면 cp949방식\n",
    "df = pd.read_csv('data/장소별_헌혈통계_2005_2019.csv' , encoding='cp949')\n",
    "df.head()"
   ]
  },
  {
   "cell_type": "code",
   "execution_count": 139,
   "metadata": {},
   "outputs": [
    {
     "output_type": "execute_result",
     "data": {
      "text/plain": [
       "   혈액원별(1)  혈액원별(2)  성별(1)       소계     소계.1     소계.2  고등학교.0   고등학교.1  \\\n",
       "0  혈액원별(1)  혈액원별(2)  성별(1)       합계     단체헌혈     단체헌혈    단체헌혈     단체헌혈   \n",
       "1  혈액원별(1)  혈액원별(2)  성별(1)     2005     2005     2005    2005     2005   \n",
       "2  혈액원별(1)  혈액원별(2)  성별(1)   실적 (건)   실적 (건)  구성비 (%)  실적 (건)  구성비 (%)   \n",
       "3       합계       소계      계  2274336  1209466     53.2  293838     12.9   \n",
       "4       합계       소계      남  1831613  1076221     58.8  215765     11.8   \n",
       "\n",
       "    대학교.0    대학교.1  ... 일반단체.28  일반단체.29    소계.73    소계.74   원내.28    원내.29  \\\n",
       "0    단체헌혈     단체헌혈  ...    단체헌혈     단체헌혈     개인헌혈     개인헌혈    개인헌혈     개인헌혈   \n",
       "1    2005     2005  ...    2019     2019     2019     2019    2019     2019   \n",
       "2  실적 (건)  구성비 (%)  ...  실적 (건)  구성비 (%)   실적 (건)  구성비 (%)  실적 (건)  구성비 (%)   \n",
       "3  101838      4.5  ...  156537      5.6  1917840     68.7   41909      1.5   \n",
       "4   76161      4.2  ...  118799      5.8  1351342     66.4   32380      1.6   \n",
       "\n",
       "   헌혈의집.28  헌혈의집.29   가두.28    가두.29  \n",
       "0     개인헌혈     개인헌혈    개인헌혈     개인헌혈  \n",
       "1     2019     2019    2019     2019  \n",
       "2   실적 (건)  구성비 (%)  실적 (건)  구성비 (%)  \n",
       "3  1870399       67    5532      0.2  \n",
       "4  1314974     64.6    3988      0.2  \n",
       "\n",
       "[5 rows x 318 columns]"
      ],
      "text/html": "<div>\n<style scoped>\n    .dataframe tbody tr th:only-of-type {\n        vertical-align: middle;\n    }\n\n    .dataframe tbody tr th {\n        vertical-align: top;\n    }\n\n    .dataframe thead th {\n        text-align: right;\n    }\n</style>\n<table border=\"1\" class=\"dataframe\">\n  <thead>\n    <tr style=\"text-align: right;\">\n      <th></th>\n      <th>혈액원별(1)</th>\n      <th>혈액원별(2)</th>\n      <th>성별(1)</th>\n      <th>소계</th>\n      <th>소계.1</th>\n      <th>소계.2</th>\n      <th>고등학교.0</th>\n      <th>고등학교.1</th>\n      <th>대학교.0</th>\n      <th>대학교.1</th>\n      <th>...</th>\n      <th>일반단체.28</th>\n      <th>일반단체.29</th>\n      <th>소계.73</th>\n      <th>소계.74</th>\n      <th>원내.28</th>\n      <th>원내.29</th>\n      <th>헌혈의집.28</th>\n      <th>헌혈의집.29</th>\n      <th>가두.28</th>\n      <th>가두.29</th>\n    </tr>\n  </thead>\n  <tbody>\n    <tr>\n      <th>0</th>\n      <td>혈액원별(1)</td>\n      <td>혈액원별(2)</td>\n      <td>성별(1)</td>\n      <td>합계</td>\n      <td>단체헌혈</td>\n      <td>단체헌혈</td>\n      <td>단체헌혈</td>\n      <td>단체헌혈</td>\n      <td>단체헌혈</td>\n      <td>단체헌혈</td>\n      <td>...</td>\n      <td>단체헌혈</td>\n      <td>단체헌혈</td>\n      <td>개인헌혈</td>\n      <td>개인헌혈</td>\n      <td>개인헌혈</td>\n      <td>개인헌혈</td>\n      <td>개인헌혈</td>\n      <td>개인헌혈</td>\n      <td>개인헌혈</td>\n      <td>개인헌혈</td>\n    </tr>\n    <tr>\n      <th>1</th>\n      <td>혈액원별(1)</td>\n      <td>혈액원별(2)</td>\n      <td>성별(1)</td>\n      <td>2005</td>\n      <td>2005</td>\n      <td>2005</td>\n      <td>2005</td>\n      <td>2005</td>\n      <td>2005</td>\n      <td>2005</td>\n      <td>...</td>\n      <td>2019</td>\n      <td>2019</td>\n      <td>2019</td>\n      <td>2019</td>\n      <td>2019</td>\n      <td>2019</td>\n      <td>2019</td>\n      <td>2019</td>\n      <td>2019</td>\n      <td>2019</td>\n    </tr>\n    <tr>\n      <th>2</th>\n      <td>혈액원별(1)</td>\n      <td>혈액원별(2)</td>\n      <td>성별(1)</td>\n      <td>실적 (건)</td>\n      <td>실적 (건)</td>\n      <td>구성비 (%)</td>\n      <td>실적 (건)</td>\n      <td>구성비 (%)</td>\n      <td>실적 (건)</td>\n      <td>구성비 (%)</td>\n      <td>...</td>\n      <td>실적 (건)</td>\n      <td>구성비 (%)</td>\n      <td>실적 (건)</td>\n      <td>구성비 (%)</td>\n      <td>실적 (건)</td>\n      <td>구성비 (%)</td>\n      <td>실적 (건)</td>\n      <td>구성비 (%)</td>\n      <td>실적 (건)</td>\n      <td>구성비 (%)</td>\n    </tr>\n    <tr>\n      <th>3</th>\n      <td>합계</td>\n      <td>소계</td>\n      <td>계</td>\n      <td>2274336</td>\n      <td>1209466</td>\n      <td>53.2</td>\n      <td>293838</td>\n      <td>12.9</td>\n      <td>101838</td>\n      <td>4.5</td>\n      <td>...</td>\n      <td>156537</td>\n      <td>5.6</td>\n      <td>1917840</td>\n      <td>68.7</td>\n      <td>41909</td>\n      <td>1.5</td>\n      <td>1870399</td>\n      <td>67</td>\n      <td>5532</td>\n      <td>0.2</td>\n    </tr>\n    <tr>\n      <th>4</th>\n      <td>합계</td>\n      <td>소계</td>\n      <td>남</td>\n      <td>1831613</td>\n      <td>1076221</td>\n      <td>58.8</td>\n      <td>215765</td>\n      <td>11.8</td>\n      <td>76161</td>\n      <td>4.2</td>\n      <td>...</td>\n      <td>118799</td>\n      <td>5.8</td>\n      <td>1351342</td>\n      <td>66.4</td>\n      <td>32380</td>\n      <td>1.6</td>\n      <td>1314974</td>\n      <td>64.6</td>\n      <td>3988</td>\n      <td>0.2</td>\n    </tr>\n  </tbody>\n</table>\n<p>5 rows × 318 columns</p>\n</div>"
     },
     "metadata": {},
     "execution_count": 139
    }
   ],
   "source": [
    "## 컬럼명 변경하기\n",
    "df.rename(columns={'고등학교':'고등학교.0','대학교':'대학교.0','군부대':'군부대.0','종교':'종교.0','일반단체':'일반단체.0'},inplace=True)\n",
    "df.head()"
   ]
  },
  {
   "cell_type": "code",
   "execution_count": 140,
   "metadata": {},
   "outputs": [],
   "source": [
    "df=df.drop('혈액원별(1)', axis=1)"
   ]
  },
  {
   "cell_type": "markdown",
   "metadata": {},
   "source": [
    "## 장소별로 구분하는 함수 만들기"
   ]
  },
  {
   "source": [
    "## 단체"
   ],
   "cell_type": "markdown",
   "metadata": {}
  },
  {
   "source": [
    "### 고등학교"
   ],
   "cell_type": "markdown",
   "metadata": {}
  },
  {
   "cell_type": "code",
   "execution_count": 143,
   "metadata": {},
   "outputs": [],
   "source": [
    "# 고등학교\n",
    "def High_school(local):\n",
    "    high_count_2005 = local[\"고등학교.0\"]\n",
    "    high_rating_2005 = local[\"고등학교.1\"]\n",
    "    high_2005 = pd.concat([high_count_2005,high_rating_2005], axis=1)\n",
    "    high_2005.columns=['2005_실적(건)','2005_구성비(%)']\n",
    "\n",
    "    high_count_2006 = local['고등학교.2']\n",
    "    high_rating_2006 = local['고등학교.3']\n",
    "    high_2006 = pd.concat([high_count_2006,high_rating_2006], axis=1)\n",
    "    high_2006.columns=['2006_실적(건)','2006_구성비(%)']\n",
    "\n",
    "    high_count_2007 = local['고등학교.4']\n",
    "    high_rating_2007 = local['고등학교.5']\n",
    "    high_2007 = pd.concat([high_count_2007,high_rating_2007], axis=1)\n",
    "    high_2007.columns=['2007_실적(건)','2007_구성비(%)']\n",
    "    \n",
    "    high_count_2008 = local['고등학교.6']\n",
    "    high_rating_2008 = local['고등학교.7']\n",
    "    high_2008 = pd.concat([high_count_2008,high_rating_2008], axis=1)\n",
    "    high_2008.columns=['2008_실적(건)','2008_구성비(%)']\n",
    "    \n",
    "    high_count_2009 = local['고등학교.8']\n",
    "    high_rating_2009 = local['고등학교.9']\n",
    "    high_2009 = pd.concat([high_count_2009,high_rating_2009], axis=1)\n",
    "    high_2009.columns=['2009_실적(건)','2009_구성비(%)']\n",
    "    \n",
    "    high_count_2010 = local['고등학교.10']\n",
    "    high_rating_2010 = local['고등학교.11']\n",
    "    high_2010 = pd.concat([high_count_2010,high_rating_2010], axis=1)\n",
    "    high_2010.columns=['2010_실적(건)','2010_구성비(%)']\n",
    "    \n",
    "    high_count_2011 = local['고등학교.12']\n",
    "    high_rating_2011 = local['고등학교.13']\n",
    "    high_2011 = pd.concat([high_count_2011,high_rating_2011], axis=1)\n",
    "    high_2011.columns=['2011_실적(건)','2011_구성비(%)']\n",
    "    \n",
    "    high_count_2012 = local['고등학교.14']\n",
    "    high_rating_2012 = local['고등학교.15']\n",
    "    high_2012 = pd.concat([high_count_2012,high_rating_2012], axis=1)\n",
    "    high_2012.columns=['2012_실적(건)','2012_구성비(%)']\n",
    "    \n",
    "    high_count_2013 = local['고등학교.16']\n",
    "    high_rating_2013 = local['고등학교.17']\n",
    "    high_2013 = pd.concat([high_count_2013,high_rating_2013], axis=1)\n",
    "    high_2013.columns=['2013_실적(건)','2013_구성비(%)']\n",
    "    \n",
    "    high_count_2014 = local['고등학교.18']\n",
    "    high_rating_2014 = local['고등학교.19']\n",
    "    high_2014 = pd.concat([high_count_2014,high_rating_2014], axis=1)\n",
    "    high_2014.columns=['2014_실적(건)','2014_구성비(%)']\n",
    "    \n",
    "    high_count_2015 = local['고등학교.20']\n",
    "    high_rating_2015 = local['고등학교.21']\n",
    "    high_2015 = pd.concat([high_count_2015,high_rating_2015], axis=1)\n",
    "    high_2015.columns=['2015_실적(건)','2015_구성비(%)']\n",
    "    \n",
    "    high_count_2016 = local['고등학교.22']\n",
    "    high_rating_2016 = local['고등학교.23']\n",
    "    high_2016 = pd.concat([high_count_2016,high_rating_2016], axis=1)\n",
    "    high_2016.columns=['2016_실적(건)','2016_구성비(%)']\n",
    "    \n",
    "    high_count_2017 = local['고등학교.24']\n",
    "    high_rating_2017 = local['고등학교.25']\n",
    "    high_2017 = pd.concat([high_count_2017,high_rating_2017], axis=1)\n",
    "    high_2017.columns=['2017_실적(건)','2017_구성비(%)']\n",
    "    \n",
    "    high_count_2018 = local['고등학교.26']\n",
    "    high_rating_2018 = local['고등학교.27']\n",
    "    high_2018 = pd.concat([high_count_2018,high_rating_2018], axis=1)\n",
    "    high_2018.columns=['2018_실적(건)','2018_구성비(%)']\n",
    "    \n",
    "    high_count_2019 = local['고등학교.28']\n",
    "    high_rating_2019 = local['고등학교.29']\n",
    "    high_2019 = pd.concat([high_count_2019,high_rating_2019], axis=1)\n",
    "    high_2019.columns=['2019_실적(건)','2019_구성비(%)']\n",
    "    \n",
    "    high = pd.concat([high_2005,high_2006,high_2007,high_2008, high_2009,high_2010, high_2011, high_2012, high_2013, high_2014, high_2015, high_2016, high_2017, high_2018, high_2019], axis=1)\n",
    "    high = high.reset_index()\n",
    "    high=high.drop('index', axis=1)\n",
    "    return high "
   ]
  },
  {
   "cell_type": "code",
   "execution_count": 154,
   "metadata": {},
   "outputs": [],
   "source": [
    "def High(local):\n",
    "    i=0\n",
    "    j=1\n",
    "\n",
    "    for year in range(2005,2020):\n",
    "        a = globals()['high_count_{}'.format(year)] = local[f\"고등학교.{i}\"]\n",
    "        b = globals()['high_rating_{}'.format(year)] = local[f\"고등학교.{j}\"]\n",
    "        globals()['high_{}'.format(year)] = pd.concat([a,b], axis=1)\n",
    "        globals()['high_{}'.format(year)].columns = [f\"{year}_실적(건)\",f\"{year}_구성비(%)\"]\n",
    "        i += 2\n",
    "        j += 2\n",
    "\n",
    "    high = pd.concat([high_2005,high_2006,high_2007,high_2008, high_2009,high_2010, high_2011, high_2012, high_2013, high_2014, high_2015, high_2016, high_2017, high_2018, high_2019], axis=1)\n",
    "    high = high.reset_index()\n",
    "    high=high.drop('index', axis=1)\n",
    "    return high"
   ]
  },
  {
   "cell_type": "code",
   "execution_count": 156,
   "metadata": {},
   "outputs": [
    {
     "output_type": "execute_result",
     "data": {
      "text/plain": [
       "  2005_실적(건) 2005_구성비(%) 2006_실적(건) 2006_구성비(%) 2007_실적(건) 2007_구성비(%)  \\\n",
       "0      20574         9.8      19028         8.6      18322         9.8   \n",
       "1      14522         8.6      13637         7.8      12310           9   \n",
       "2       6052        14.8       5391        11.3       6012        11.9   \n",
       "3      14614        10.9      17831        12.9      16288        10.5   \n",
       "4      10700         9.4      13332        11.7      11864        10.1   \n",
       "\n",
       "  2008_실적(건) 2008_구성비(%) 2009_실적(건) 2009_구성비(%)  ... 2015_실적(건) 2015_구성비(%)  \\\n",
       "0      14301         6.9      10630         5.1  ...          -           -   \n",
       "1       9881         6.7       7853         5.3  ...          -           -   \n",
       "2       4420         7.3       2777         4.6  ...          -           -   \n",
       "3      17136          10      11823         6.1  ...      26927         8.1   \n",
       "4      12353         9.7       8703         6.1  ...      19450         8.4   \n",
       "\n",
       "  2016_실적(건) 2016_구성비(%) 2017_실적(건) 2017_구성비(%) 2018_실적(건) 2018_구성비(%)  \\\n",
       "0          -           -          -           -      14569         5.5   \n",
       "1          -           -          -           -      10296         5.3   \n",
       "2          -           -          -           -       4273           6   \n",
       "3      23154           8      18559         6.7          -           -   \n",
       "4      16911           8      13338         6.6          -           -   \n",
       "\n",
       "  2019_실적(건) 2019_구성비(%)  \n",
       "0      14910         5.9  \n",
       "1      10651         5.8  \n",
       "2       4259         6.3  \n",
       "3          -           -  \n",
       "4          -           -  \n",
       "\n",
       "[5 rows x 30 columns]"
      ],
      "text/html": "<div>\n<style scoped>\n    .dataframe tbody tr th:only-of-type {\n        vertical-align: middle;\n    }\n\n    .dataframe tbody tr th {\n        vertical-align: top;\n    }\n\n    .dataframe thead th {\n        text-align: right;\n    }\n</style>\n<table border=\"1\" class=\"dataframe\">\n  <thead>\n    <tr style=\"text-align: right;\">\n      <th></th>\n      <th>2005_실적(건)</th>\n      <th>2005_구성비(%)</th>\n      <th>2006_실적(건)</th>\n      <th>2006_구성비(%)</th>\n      <th>2007_실적(건)</th>\n      <th>2007_구성비(%)</th>\n      <th>2008_실적(건)</th>\n      <th>2008_구성비(%)</th>\n      <th>2009_실적(건)</th>\n      <th>2009_구성비(%)</th>\n      <th>...</th>\n      <th>2015_실적(건)</th>\n      <th>2015_구성비(%)</th>\n      <th>2016_실적(건)</th>\n      <th>2016_구성비(%)</th>\n      <th>2017_실적(건)</th>\n      <th>2017_구성비(%)</th>\n      <th>2018_실적(건)</th>\n      <th>2018_구성비(%)</th>\n      <th>2019_실적(건)</th>\n      <th>2019_구성비(%)</th>\n    </tr>\n  </thead>\n  <tbody>\n    <tr>\n      <th>0</th>\n      <td>20574</td>\n      <td>9.8</td>\n      <td>19028</td>\n      <td>8.6</td>\n      <td>18322</td>\n      <td>9.8</td>\n      <td>14301</td>\n      <td>6.9</td>\n      <td>10630</td>\n      <td>5.1</td>\n      <td>...</td>\n      <td>-</td>\n      <td>-</td>\n      <td>-</td>\n      <td>-</td>\n      <td>-</td>\n      <td>-</td>\n      <td>14569</td>\n      <td>5.5</td>\n      <td>14910</td>\n      <td>5.9</td>\n    </tr>\n    <tr>\n      <th>1</th>\n      <td>14522</td>\n      <td>8.6</td>\n      <td>13637</td>\n      <td>7.8</td>\n      <td>12310</td>\n      <td>9</td>\n      <td>9881</td>\n      <td>6.7</td>\n      <td>7853</td>\n      <td>5.3</td>\n      <td>...</td>\n      <td>-</td>\n      <td>-</td>\n      <td>-</td>\n      <td>-</td>\n      <td>-</td>\n      <td>-</td>\n      <td>10296</td>\n      <td>5.3</td>\n      <td>10651</td>\n      <td>5.8</td>\n    </tr>\n    <tr>\n      <th>2</th>\n      <td>6052</td>\n      <td>14.8</td>\n      <td>5391</td>\n      <td>11.3</td>\n      <td>6012</td>\n      <td>11.9</td>\n      <td>4420</td>\n      <td>7.3</td>\n      <td>2777</td>\n      <td>4.6</td>\n      <td>...</td>\n      <td>-</td>\n      <td>-</td>\n      <td>-</td>\n      <td>-</td>\n      <td>-</td>\n      <td>-</td>\n      <td>4273</td>\n      <td>6</td>\n      <td>4259</td>\n      <td>6.3</td>\n    </tr>\n    <tr>\n      <th>3</th>\n      <td>14614</td>\n      <td>10.9</td>\n      <td>17831</td>\n      <td>12.9</td>\n      <td>16288</td>\n      <td>10.5</td>\n      <td>17136</td>\n      <td>10</td>\n      <td>11823</td>\n      <td>6.1</td>\n      <td>...</td>\n      <td>26927</td>\n      <td>8.1</td>\n      <td>23154</td>\n      <td>8</td>\n      <td>18559</td>\n      <td>6.7</td>\n      <td>-</td>\n      <td>-</td>\n      <td>-</td>\n      <td>-</td>\n    </tr>\n    <tr>\n      <th>4</th>\n      <td>10700</td>\n      <td>9.4</td>\n      <td>13332</td>\n      <td>11.7</td>\n      <td>11864</td>\n      <td>10.1</td>\n      <td>12353</td>\n      <td>9.7</td>\n      <td>8703</td>\n      <td>6.1</td>\n      <td>...</td>\n      <td>19450</td>\n      <td>8.4</td>\n      <td>16911</td>\n      <td>8</td>\n      <td>13338</td>\n      <td>6.6</td>\n      <td>-</td>\n      <td>-</td>\n      <td>-</td>\n      <td>-</td>\n    </tr>\n  </tbody>\n</table>\n<p>5 rows × 30 columns</p>\n</div>"
     },
     "metadata": {},
     "execution_count": 156
    }
   ],
   "source": [
    "High(seoul).head()"
   ]
  },
  {
   "source": [
    "### 대학교"
   ],
   "cell_type": "markdown",
   "metadata": {}
  },
  {
   "cell_type": "code",
   "execution_count": 10,
   "metadata": {},
   "outputs": [],
   "source": [
    "# 대학교\n",
    "def University(local):\n",
    "    uni_count_2005 = local[\"대학교\"]\n",
    "    uni_rating_2005 = local[\"대학교.1\"]\n",
    "    uni_2005 = pd.concat([uni_count_2005,uni_rating_2005], axis=1)\n",
    "    uni_2005.columns=['2005_실적(건)','2005_구성비(%)']\n",
    "\n",
    "    uni_count_2006 = local['대학교.2']\n",
    "    uni_rating_2006 = local['대학교.3']\n",
    "    uni_2006 = pd.concat([uni_count_2006,uni_rating_2006], axis=1)\n",
    "    uni_2006.columns=['2006_실적(건)','2006_구성비(%)']\n",
    "\n",
    "    uni_count_2007 = local['대학교.4']\n",
    "    uni_rating_2007 = local['대학교.5']\n",
    "    uni_2007 = pd.concat([uni_count_2007,uni_rating_2007], axis=1)\n",
    "    uni_2007.columns=['2007_실적(건)','2007_구성비(%)']\n",
    "    \n",
    "    uni_count_2008 = local['대학교.6']\n",
    "    uni_rating_2008 = local['대학교.7']\n",
    "    uni_2008 = pd.concat([uni_count_2008,uni_rating_2008], axis=1)\n",
    "    uni_2008.columns=['2008_실적(건)','2008_구성비(%)']\n",
    "    \n",
    "    uni_count_2009 = local['대학교.8']\n",
    "    uni_rating_2009 = local['대학교.9']\n",
    "    uni_2009 = pd.concat([uni_count_2009,uni_rating_2009], axis=1)\n",
    "    uni_2009.columns=['2009_실적(건)','2009_구성비(%)']\n",
    "    \n",
    "    uni_count_2010 = local['대학교.10']\n",
    "    uni_rating_2010 = local['대학교.11']\n",
    "    uni_2010 = pd.concat([uni_count_2010,uni_rating_2010], axis=1)\n",
    "    uni_2010.columns=['2010_실적(건)','2010_구성비(%)']\n",
    "    \n",
    "    uni_count_2011 = local['대학교.12']\n",
    "    uni_rating_2011 = local['대학교.13']\n",
    "    uni_2011 = pd.concat([uni_count_2011,uni_rating_2011], axis=1)\n",
    "    uni_2011.columns=['2011_실적(건)','2011_구성비(%)']\n",
    "    \n",
    "    uni_count_2012 = local['대학교.14']\n",
    "    uni_rating_2012 = local['대학교.15']\n",
    "    uni_2012 = pd.concat([uni_count_2012,uni_rating_2012], axis=1)\n",
    "    uni_2012.columns=['2012_실적(건)','2012_구성비(%)']\n",
    "    \n",
    "    uni_count_2013 = local['대학교.16']\n",
    "    uni_rating_2013 = local['대학교.17']\n",
    "    uni_2013 = pd.concat([uni_count_2013,uni_rating_2013], axis=1)\n",
    "    uni_2013.columns=['2013_실적(건)','2013_구성비(%)']\n",
    "    \n",
    "    uni_count_2014 = local['대학교.18']\n",
    "    uni_rating_2014 = local['대학교.19']\n",
    "    uni_2014 = pd.concat([uni_count_2014,uni_rating_2014], axis=1)\n",
    "    uni_2014.columns=['2014_실적(건)','2014_구성비(%)']\n",
    "    \n",
    "    uni_count_2015 = local['대학교.20']\n",
    "    uni_rating_2015 = local['대학교.21']\n",
    "    uni_2015 = pd.concat([uni_count_2015,uni_rating_2015], axis=1)\n",
    "    uni_2015.columns=['2015_실적(건)','2015_구성비(%)']\n",
    "    \n",
    "    uni_count_2016 = local['대학교.22']\n",
    "    uni_rating_2016 = local['대학교.23']\n",
    "    uni_2016 = pd.concat([uni_count_2016,uni_rating_2016], axis=1)\n",
    "    uni_2016.columns=['2016_실적(건)','2016_구성비(%)']\n",
    "    \n",
    "    uni_count_2017 = local['대학교.24']\n",
    "    uni_rating_2017 = local['대학교.25']\n",
    "    uni_2017 = pd.concat([uni_count_2017,uni_rating_2017], axis=1)\n",
    "    uni_2017.columns=['2017_실적(건)','2017_구성비(%)']\n",
    "    \n",
    "    uni_count_2018 = local['대학교.26']\n",
    "    uni_rating_2018 = local['대학교.27']\n",
    "    uni_2018 = pd.concat([uni_count_2018,uni_rating_2018], axis=1)\n",
    "    uni_2018.columns=['2018_실적(건)','2018_구성비(%)']\n",
    "    \n",
    "    uni_count_2019 = local['대학교.28']\n",
    "    uni_rating_2019 = local['대학교.29']\n",
    "    uni_2019 = pd.concat([uni_count_2019,uni_rating_2019], axis=1)\n",
    "    uni_2019.columns=['2019_실적(건)','2019_구성비(%)']\n",
    "    \n",
    "    uni = pd.concat([uni_2005,uni_2006,uni_2007,uni_2008, uni_2009,uni_2010, uni_2011, uni_2012, uni_2013, uni_2014, uni_2015, uni_2016, uni_2017, uni_2018, uni_2019], axis=1)\n",
    "    uni = uni.reset_index()\n",
    "    uni=uni.drop('index', axis=1)\n",
    "    return uni "
   ]
  },
  {
   "cell_type": "code",
   "execution_count": 158,
   "metadata": {},
   "outputs": [],
   "source": [
    "def University(local):\n",
    "    i=0\n",
    "    j=1\n",
    "\n",
    "    for year in range(2005,2020):\n",
    "        a = globals()['uni_count_{}'.format(year)] = local[f\"대학교.{i}\"]\n",
    "        b = globals()['uni_rating_{}'.format(year)] = local[f\"대학교.{j}\"]\n",
    "        globals()['uni_{}'.format(year)] = pd.concat([a,b], axis=1)\n",
    "        globals()['uni_{}'.format(year)].columns = [f\"{year}_실적(건)\",f\"{year}_구성비(%)\"]\n",
    "        i += 2\n",
    "        j += 2\n",
    "\n",
    "    uni = pd.concat([uni_2005,uni_2006,uni_2007,uni_2008, uni_2009,uni_2010, uni_2011, uni_2012, uni_2013, uni_2014, uni_2015, uni_2016, uni_2017, uni_2018, uni_2019], axis=1)\n",
    "    uni = uni.reset_index()\n",
    "    uni=uni.drop('index', axis=1)\n",
    "    return uni"
   ]
  },
  {
   "cell_type": "code",
   "execution_count": 160,
   "metadata": {},
   "outputs": [
    {
     "output_type": "execute_result",
     "data": {
      "text/plain": [
       "  2005_실적(건) 2005_구성비(%) 2006_실적(건) 2006_구성비(%) 2007_실적(건) 2007_구성비(%)  \\\n",
       "0       8258         3.9       7814         3.5       7509           4   \n",
       "1       5349         3.1       5504         3.2       4673         3.4   \n",
       "2       2909         7.1       2310         4.9       2836         5.6   \n",
       "3       1546         1.2       1615         1.2       1682         1.1   \n",
       "4       1268         1.1       1406         1.2       1317         1.1   \n",
       "\n",
       "  2008_실적(건) 2008_구성비(%) 2009_실적(건) 2009_구성비(%)  ... 2015_실적(건) 2015_구성비(%)  \\\n",
       "0       5498         2.6       5139         2.5  ...          -           -   \n",
       "1       3404         2.3       3230         2.2  ...          -           -   \n",
       "2       2094         3.4       1909         3.2  ...          -           -   \n",
       "3       1681           1       1299         0.7  ...       2396         0.7   \n",
       "4       1258           1        936         0.7  ...       1776         0.8   \n",
       "\n",
       "  2016_실적(건) 2016_구성비(%) 2017_실적(건) 2017_구성비(%) 2018_실적(건) 2018_구성비(%)  \\\n",
       "0          -           -          -           -       1287         0.5   \n",
       "1          -           -          -           -        858         0.4   \n",
       "2          -           -          -           -        429         0.6   \n",
       "3       1859         0.6       1741         0.6          -           -   \n",
       "4       1343         0.6       1131         0.6          -           -   \n",
       "\n",
       "  2019_실적(건) 2019_구성비(%)  \n",
       "0       1932         0.8  \n",
       "1       1287         0.7  \n",
       "2        645         0.9  \n",
       "3          -           -  \n",
       "4          -           -  \n",
       "\n",
       "[5 rows x 30 columns]"
      ],
      "text/html": "<div>\n<style scoped>\n    .dataframe tbody tr th:only-of-type {\n        vertical-align: middle;\n    }\n\n    .dataframe tbody tr th {\n        vertical-align: top;\n    }\n\n    .dataframe thead th {\n        text-align: right;\n    }\n</style>\n<table border=\"1\" class=\"dataframe\">\n  <thead>\n    <tr style=\"text-align: right;\">\n      <th></th>\n      <th>2005_실적(건)</th>\n      <th>2005_구성비(%)</th>\n      <th>2006_실적(건)</th>\n      <th>2006_구성비(%)</th>\n      <th>2007_실적(건)</th>\n      <th>2007_구성비(%)</th>\n      <th>2008_실적(건)</th>\n      <th>2008_구성비(%)</th>\n      <th>2009_실적(건)</th>\n      <th>2009_구성비(%)</th>\n      <th>...</th>\n      <th>2015_실적(건)</th>\n      <th>2015_구성비(%)</th>\n      <th>2016_실적(건)</th>\n      <th>2016_구성비(%)</th>\n      <th>2017_실적(건)</th>\n      <th>2017_구성비(%)</th>\n      <th>2018_실적(건)</th>\n      <th>2018_구성비(%)</th>\n      <th>2019_실적(건)</th>\n      <th>2019_구성비(%)</th>\n    </tr>\n  </thead>\n  <tbody>\n    <tr>\n      <th>0</th>\n      <td>8258</td>\n      <td>3.9</td>\n      <td>7814</td>\n      <td>3.5</td>\n      <td>7509</td>\n      <td>4</td>\n      <td>5498</td>\n      <td>2.6</td>\n      <td>5139</td>\n      <td>2.5</td>\n      <td>...</td>\n      <td>-</td>\n      <td>-</td>\n      <td>-</td>\n      <td>-</td>\n      <td>-</td>\n      <td>-</td>\n      <td>1287</td>\n      <td>0.5</td>\n      <td>1932</td>\n      <td>0.8</td>\n    </tr>\n    <tr>\n      <th>1</th>\n      <td>5349</td>\n      <td>3.1</td>\n      <td>5504</td>\n      <td>3.2</td>\n      <td>4673</td>\n      <td>3.4</td>\n      <td>3404</td>\n      <td>2.3</td>\n      <td>3230</td>\n      <td>2.2</td>\n      <td>...</td>\n      <td>-</td>\n      <td>-</td>\n      <td>-</td>\n      <td>-</td>\n      <td>-</td>\n      <td>-</td>\n      <td>858</td>\n      <td>0.4</td>\n      <td>1287</td>\n      <td>0.7</td>\n    </tr>\n    <tr>\n      <th>2</th>\n      <td>2909</td>\n      <td>7.1</td>\n      <td>2310</td>\n      <td>4.9</td>\n      <td>2836</td>\n      <td>5.6</td>\n      <td>2094</td>\n      <td>3.4</td>\n      <td>1909</td>\n      <td>3.2</td>\n      <td>...</td>\n      <td>-</td>\n      <td>-</td>\n      <td>-</td>\n      <td>-</td>\n      <td>-</td>\n      <td>-</td>\n      <td>429</td>\n      <td>0.6</td>\n      <td>645</td>\n      <td>0.9</td>\n    </tr>\n    <tr>\n      <th>3</th>\n      <td>1546</td>\n      <td>1.2</td>\n      <td>1615</td>\n      <td>1.2</td>\n      <td>1682</td>\n      <td>1.1</td>\n      <td>1681</td>\n      <td>1</td>\n      <td>1299</td>\n      <td>0.7</td>\n      <td>...</td>\n      <td>2396</td>\n      <td>0.7</td>\n      <td>1859</td>\n      <td>0.6</td>\n      <td>1741</td>\n      <td>0.6</td>\n      <td>-</td>\n      <td>-</td>\n      <td>-</td>\n      <td>-</td>\n    </tr>\n    <tr>\n      <th>4</th>\n      <td>1268</td>\n      <td>1.1</td>\n      <td>1406</td>\n      <td>1.2</td>\n      <td>1317</td>\n      <td>1.1</td>\n      <td>1258</td>\n      <td>1</td>\n      <td>936</td>\n      <td>0.7</td>\n      <td>...</td>\n      <td>1776</td>\n      <td>0.8</td>\n      <td>1343</td>\n      <td>0.6</td>\n      <td>1131</td>\n      <td>0.6</td>\n      <td>-</td>\n      <td>-</td>\n      <td>-</td>\n      <td>-</td>\n    </tr>\n  </tbody>\n</table>\n<p>5 rows × 30 columns</p>\n</div>"
     },
     "metadata": {},
     "execution_count": 160
    }
   ],
   "source": [
    "University(seoul).head()"
   ]
  },
  {
   "source": [
    "### 군부대"
   ],
   "cell_type": "markdown",
   "metadata": {}
  },
  {
   "cell_type": "code",
   "execution_count": 14,
   "metadata": {},
   "outputs": [],
   "source": [
    "# 군부대\n",
    "def Military(local):\n",
    "    military_count_2005 = local[\"군부대\"]\n",
    "    military_rating_2005 = local[\"군부대.1\"]\n",
    "    military_2005 = pd.concat([military_count_2005,military_rating_2005], axis=1)\n",
    "    military_2005.columns=['2005_실적(건)','2005_구성비(%)']\n",
    "\n",
    "    military_count_2006 = local['군부대.2']\n",
    "    military_rating_2006 = local['군부대.3']\n",
    "    military_2006 = pd.concat([military_count_2006,military_rating_2006], axis=1)\n",
    "    military_2006.columns=['2006_실적(건)','2006_구성비(%)']\n",
    "\n",
    "    military_count_2007 = local['군부대.4']\n",
    "    military_rating_2007 = local['군부대.5']\n",
    "    military_2007 = pd.concat([military_count_2007,military_rating_2007], axis=1)\n",
    "    military_2007.columns=['2007_실적(건)','2007_구성비(%)']\n",
    "    \n",
    "    military_count_2008 = local['군부대.6']\n",
    "    military_rating_2008 = local['군부대.7']\n",
    "    military_2008 = pd.concat([military_count_2008,military_rating_2008], axis=1)\n",
    "    military_2008.columns=['2008_실적(건)','2008_구성비(%)']\n",
    "    \n",
    "    military_count_2009 = local['군부대.8']\n",
    "    military_rating_2009 = local['군부대.9']\n",
    "    military_2009 = pd.concat([military_count_2009,military_rating_2009], axis=1)\n",
    "    military_2009.columns=['2009_실적(건)','2009_구성비(%)']\n",
    "    \n",
    "    military_count_2010 = local['군부대.10']\n",
    "    military_rating_2010 = local['군부대.11']\n",
    "    military_2010 = pd.concat([military_count_2010,military_rating_2010], axis=1)\n",
    "    military_2010.columns=['2010_실적(건)','2010_구성비(%)']\n",
    "    \n",
    "    military_count_2011 = local['군부대.12']\n",
    "    military_rating_2011 = local['군부대.13']\n",
    "    military_2011 = pd.concat([military_count_2011,military_rating_2011], axis=1)\n",
    "    military_2011.columns=['2011_실적(건)','2011_구성비(%)']\n",
    "    \n",
    "    military_count_2012 = local['군부대.14']\n",
    "    military_rating_2012 = local['군부대.15']\n",
    "    military_2012 = pd.concat([military_count_2012,military_rating_2012], axis=1)\n",
    "    military_2012.columns=['2012_실적(건)','2012_구성비(%)']\n",
    "    \n",
    "    military_count_2013 = local['군부대.16']\n",
    "    military_rating_2013 = local['군부대.17']\n",
    "    military_2013 = pd.concat([military_count_2013,military_rating_2013], axis=1)\n",
    "    military_2013.columns=['2013_실적(건)','2013_구성비(%)']\n",
    "    \n",
    "    military_count_2014 = local['군부대.18']\n",
    "    military_rating_2014 = local['군부대.19']\n",
    "    military_2014 = pd.concat([military_count_2014,military_rating_2014], axis=1)\n",
    "    military_2014.columns=['2014_실적(건)','2014_구성비(%)']\n",
    "    \n",
    "    military_count_2015 = local['군부대.20']\n",
    "    military_rating_2015 = local['군부대.21']\n",
    "    military_2015 = pd.concat([military_count_2015,military_rating_2015], axis=1)\n",
    "    military_2015.columns=['2015_실적(건)','2015_구성비(%)']\n",
    "    \n",
    "    military_count_2016 = local['군부대.22']\n",
    "    military_rating_2016 = local['군부대.23']\n",
    "    military_2016 = pd.concat([military_count_2016,military_rating_2016], axis=1)\n",
    "    military_2016.columns=['2016_실적(건)','2016_구성비(%)']\n",
    "    \n",
    "    military_count_2017 = local['군부대.24']\n",
    "    military_rating_2017 = local['군부대.25']\n",
    "    military_2017 = pd.concat([military_count_2017,military_rating_2017], axis=1)\n",
    "    military_2017.columns=['2017_실적(건)','2017_구성비(%)']\n",
    "    \n",
    "    military_count_2018 = local['군부대.26']\n",
    "    military_rating_2018 = local['군부대.27']\n",
    "    military_2018 = pd.concat([military_count_2018,military_rating_2018], axis=1)\n",
    "    military_2018.columns=['2018_실적(건)','2018_구성비(%)']\n",
    "    \n",
    "    military_count_2019 = local['군부대.28']\n",
    "    military_rating_2019 = local['군부대.29']\n",
    "    military_2019 = pd.concat([military_count_2019,military_rating_2019], axis=1)\n",
    "    military_2019.columns=['2019_실적(건)','2019_구성비(%)']\n",
    "    \n",
    "    military = pd.concat([military_2005,military_2006,military_2007,military_2008, military_2009,military_2010, military_2011, military_2012, military_2013, military_2014, military_2015, military_2016, military_2017, military_2018, military_2019], axis=1)\n",
    "    military = military.reset_index()\n",
    "    military=military.drop('index', axis=1)\n",
    "    return military "
   ]
  },
  {
   "cell_type": "code",
   "execution_count": 162,
   "metadata": {},
   "outputs": [],
   "source": [
    "def Military(local):\n",
    "    i=0\n",
    "    j=1\n",
    "\n",
    "    for year in range(2005,2020):\n",
    "        a = globals()['military_count_{}'.format(year)] = local[f\"군부대.{i}\"]\n",
    "        b = globals()['military_rating_{}'.format(year)] = local[f\"군부대.{j}\"]\n",
    "        globals()['military_{}'.format(year)] = pd.concat([a,b], axis=1)\n",
    "        globals()['military_{}'.format(year)].columns = [f\"{year}_실적(건)\",f\"{year}_구성비(%)\"]\n",
    "        i += 2\n",
    "        j += 2\n",
    "\n",
    "    military = pd.concat([military_2005,military_2006,military_2007,military_2008, military_2009,military_2010, military_2011, military_2012, military_2013, military_2014, military_2015, military_2016, military_2017, military_2018, military_2019], axis=1)\n",
    "    military = military.reset_index()\n",
    "    military=military.drop('index', axis=1)\n",
    "    return military"
   ]
  },
  {
   "cell_type": "code",
   "execution_count": 163,
   "metadata": {},
   "outputs": [
    {
     "output_type": "execute_result",
     "data": {
      "text/plain": [
       "  2005_실적(건) 2005_구성비(%) 2006_실적(건) 2006_구성비(%) 2007_실적(건) 2007_구성비(%)  \\\n",
       "0      68161        32.4      60934        27.4      30956        16.5   \n",
       "1      68038        40.1      60848        34.9      30867        22.5   \n",
       "2        123         0.3         86         0.2         89         0.2   \n",
       "3      27230        20.4      19283        13.9       9208         5.9   \n",
       "4      27199        23.9      19257        16.9       9199         7.8   \n",
       "\n",
       "  2008_실적(건) 2008_구성비(%) 2009_실적(건) 2009_구성비(%)  ... 2015_실적(건) 2015_구성비(%)  \\\n",
       "0      35648        17.1      29540        14.2  ...          -           -   \n",
       "1      35561        24.2      29452        19.9  ...          -           -   \n",
       "2         87         0.1         88         0.1  ...          -           -   \n",
       "3      12921         7.6      12083         6.3  ...      41802        12.6   \n",
       "4      12877        10.1      12036         8.4  ...      41563        17.9   \n",
       "\n",
       "  2016_실적(건) 2016_구성비(%) 2017_실적(건) 2017_구성비(%) 2018_실적(건) 2018_구성비(%)  \\\n",
       "0          -           -          -           -      30498        11.4   \n",
       "1          -           -          -           -      30330        15.5   \n",
       "2          -           -          -           -        168         0.2   \n",
       "3      39489        13.6      31229        11.3          -           -   \n",
       "4      39294        18.6      31068        15.4          -           -   \n",
       "\n",
       "  2019_실적(건) 2019_구성비(%)  \n",
       "0      28396        11.3  \n",
       "1      28204        15.4  \n",
       "2        192         0.3  \n",
       "3          -           -  \n",
       "4          -           -  \n",
       "\n",
       "[5 rows x 30 columns]"
      ],
      "text/html": "<div>\n<style scoped>\n    .dataframe tbody tr th:only-of-type {\n        vertical-align: middle;\n    }\n\n    .dataframe tbody tr th {\n        vertical-align: top;\n    }\n\n    .dataframe thead th {\n        text-align: right;\n    }\n</style>\n<table border=\"1\" class=\"dataframe\">\n  <thead>\n    <tr style=\"text-align: right;\">\n      <th></th>\n      <th>2005_실적(건)</th>\n      <th>2005_구성비(%)</th>\n      <th>2006_실적(건)</th>\n      <th>2006_구성비(%)</th>\n      <th>2007_실적(건)</th>\n      <th>2007_구성비(%)</th>\n      <th>2008_실적(건)</th>\n      <th>2008_구성비(%)</th>\n      <th>2009_실적(건)</th>\n      <th>2009_구성비(%)</th>\n      <th>...</th>\n      <th>2015_실적(건)</th>\n      <th>2015_구성비(%)</th>\n      <th>2016_실적(건)</th>\n      <th>2016_구성비(%)</th>\n      <th>2017_실적(건)</th>\n      <th>2017_구성비(%)</th>\n      <th>2018_실적(건)</th>\n      <th>2018_구성비(%)</th>\n      <th>2019_실적(건)</th>\n      <th>2019_구성비(%)</th>\n    </tr>\n  </thead>\n  <tbody>\n    <tr>\n      <th>0</th>\n      <td>68161</td>\n      <td>32.4</td>\n      <td>60934</td>\n      <td>27.4</td>\n      <td>30956</td>\n      <td>16.5</td>\n      <td>35648</td>\n      <td>17.1</td>\n      <td>29540</td>\n      <td>14.2</td>\n      <td>...</td>\n      <td>-</td>\n      <td>-</td>\n      <td>-</td>\n      <td>-</td>\n      <td>-</td>\n      <td>-</td>\n      <td>30498</td>\n      <td>11.4</td>\n      <td>28396</td>\n      <td>11.3</td>\n    </tr>\n    <tr>\n      <th>1</th>\n      <td>68038</td>\n      <td>40.1</td>\n      <td>60848</td>\n      <td>34.9</td>\n      <td>30867</td>\n      <td>22.5</td>\n      <td>35561</td>\n      <td>24.2</td>\n      <td>29452</td>\n      <td>19.9</td>\n      <td>...</td>\n      <td>-</td>\n      <td>-</td>\n      <td>-</td>\n      <td>-</td>\n      <td>-</td>\n      <td>-</td>\n      <td>30330</td>\n      <td>15.5</td>\n      <td>28204</td>\n      <td>15.4</td>\n    </tr>\n    <tr>\n      <th>2</th>\n      <td>123</td>\n      <td>0.3</td>\n      <td>86</td>\n      <td>0.2</td>\n      <td>89</td>\n      <td>0.2</td>\n      <td>87</td>\n      <td>0.1</td>\n      <td>88</td>\n      <td>0.1</td>\n      <td>...</td>\n      <td>-</td>\n      <td>-</td>\n      <td>-</td>\n      <td>-</td>\n      <td>-</td>\n      <td>-</td>\n      <td>168</td>\n      <td>0.2</td>\n      <td>192</td>\n      <td>0.3</td>\n    </tr>\n    <tr>\n      <th>3</th>\n      <td>27230</td>\n      <td>20.4</td>\n      <td>19283</td>\n      <td>13.9</td>\n      <td>9208</td>\n      <td>5.9</td>\n      <td>12921</td>\n      <td>7.6</td>\n      <td>12083</td>\n      <td>6.3</td>\n      <td>...</td>\n      <td>41802</td>\n      <td>12.6</td>\n      <td>39489</td>\n      <td>13.6</td>\n      <td>31229</td>\n      <td>11.3</td>\n      <td>-</td>\n      <td>-</td>\n      <td>-</td>\n      <td>-</td>\n    </tr>\n    <tr>\n      <th>4</th>\n      <td>27199</td>\n      <td>23.9</td>\n      <td>19257</td>\n      <td>16.9</td>\n      <td>9199</td>\n      <td>7.8</td>\n      <td>12877</td>\n      <td>10.1</td>\n      <td>12036</td>\n      <td>8.4</td>\n      <td>...</td>\n      <td>41563</td>\n      <td>17.9</td>\n      <td>39294</td>\n      <td>18.6</td>\n      <td>31068</td>\n      <td>15.4</td>\n      <td>-</td>\n      <td>-</td>\n      <td>-</td>\n      <td>-</td>\n    </tr>\n  </tbody>\n</table>\n<p>5 rows × 30 columns</p>\n</div>"
     },
     "metadata": {},
     "execution_count": 163
    }
   ],
   "source": [
    "Military(seoul).head()"
   ]
  },
  {
   "source": [
    "### 종교"
   ],
   "cell_type": "markdown",
   "metadata": {}
  },
  {
   "cell_type": "code",
   "execution_count": 16,
   "metadata": {},
   "outputs": [],
   "source": [
    "# 종교\n",
    "def Religion(local):\n",
    "    religion_count_2005 = local[\"종교\"]\n",
    "    religion_rating_2005 = local[\"종교.1\"]\n",
    "    religion_2005 = pd.concat([religion_count_2005,religion_rating_2005], axis=1)\n",
    "    religion_2005.columns=['2005_실적(건)','2005_구성비(%)']\n",
    "\n",
    "    religion_count_2006 = local['종교.2']\n",
    "    religion_rating_2006 = local['종교.3']\n",
    "    religion_2006 = pd.concat([religion_count_2006,religion_rating_2006], axis=1)\n",
    "    religion_2006.columns=['2006_실적(건)','2006_구성비(%)']\n",
    "\n",
    "    religion_count_2007 = local['종교.4']\n",
    "    religion_rating_2007 = local['종교.5']\n",
    "    religion_2007 = pd.concat([religion_count_2007,religion_rating_2007], axis=1)\n",
    "    religion_2007.columns=['2007_실적(건)','2007_구성비(%)']\n",
    "    \n",
    "    religion_count_2008 = local['종교.6']\n",
    "    religion_rating_2008 = local['종교.7']\n",
    "    religion_2008 = pd.concat([religion_count_2008,religion_rating_2008], axis=1)\n",
    "    religion_2008.columns=['2008_실적(건)','2008_구성비(%)']\n",
    "    \n",
    "    religion_count_2009 = local['종교.8']\n",
    "    religion_rating_2009 = local['종교.9']\n",
    "    religion_2009 = pd.concat([religion_count_2009,religion_rating_2009], axis=1)\n",
    "    religion_2009.columns=['2009_실적(건)','2009_구성비(%)']\n",
    "    \n",
    "    religion_count_2010 = local['종교.10']\n",
    "    religion_rating_2010 = local['종교.11']\n",
    "    religion_2010 = pd.concat([religion_count_2010,religion_rating_2010], axis=1)\n",
    "    religion_2010.columns=['2010_실적(건)','2010_구성비(%)']\n",
    "    \n",
    "    religion_count_2011 = local['종교.12']\n",
    "    religion_rating_2011 = local['종교.13']\n",
    "    religion_2011 = pd.concat([religion_count_2011,religion_rating_2011], axis=1)\n",
    "    religion_2011.columns=['2011_실적(건)','2011_구성비(%)']\n",
    "    \n",
    "    religion_count_2012 = local['종교.14']\n",
    "    religion_rating_2012 = local['종교.15']\n",
    "    religion_2012 = pd.concat([religion_count_2012,religion_rating_2012], axis=1)\n",
    "    religion_2012.columns=['2012_실적(건)','2012_구성비(%)']\n",
    "    \n",
    "    religion_count_2013 = local['종교.16']\n",
    "    religion_rating_2013 = local['종교.17']\n",
    "    religion_2013 = pd.concat([religion_count_2013,religion_rating_2013], axis=1)\n",
    "    religion_2013.columns=['2013_실적(건)','2013_구성비(%)']\n",
    "    \n",
    "    religion_count_2014 = local['종교.18']\n",
    "    religion_rating_2014 = local['종교.19']\n",
    "    religion_2014 = pd.concat([religion_count_2014,religion_rating_2014], axis=1)\n",
    "    religion_2014.columns=['2014_실적(건)','2014_구성비(%)']\n",
    "    \n",
    "    religion_count_2015 = local['종교.20']\n",
    "    religion_rating_2015 = local['종교.21']\n",
    "    religion_2015 = pd.concat([religion_count_2015,religion_rating_2015], axis=1)\n",
    "    religion_2015.columns=['2015_실적(건)','2015_구성비(%)']\n",
    "    \n",
    "    religion_count_2016 = local['종교.22']\n",
    "    religion_rating_2016 = local['종교.23']\n",
    "    religion_2016 = pd.concat([religion_count_2016,religion_rating_2016], axis=1)\n",
    "    religion_2016.columns=['2016_실적(건)','2016_구성비(%)']\n",
    "    \n",
    "    religion_count_2017 = local['종교.24']\n",
    "    religion_rating_2017 = local['종교.25']\n",
    "    religion_2017 = pd.concat([religion_count_2017,religion_rating_2017], axis=1)\n",
    "    religion_2017.columns=['2017_실적(건)','2017_구성비(%)']\n",
    "    \n",
    "    religion_count_2018 = local['종교.26']\n",
    "    religion_rating_2018 = local['종교.27']\n",
    "    religion_2018 = pd.concat([religion_count_2018,religion_rating_2018], axis=1)\n",
    "    religion_2018.columns=['2018_실적(건)','2018_구성비(%)']\n",
    "    \n",
    "    religion_count_2019 = local['종교.28']\n",
    "    religion_rating_2019 = local['종교.29']\n",
    "    religion_2019 = pd.concat([religion_count_2019,religion_rating_2019], axis=1)\n",
    "    religion_2019.columns=['2019_실적(건)','2019_구성비(%)']\n",
    "    \n",
    "    religion = pd.concat([religion_2005,religion_2006,religion_2007,religion_2008, religion_2009,religion_2010, religion_2011, religion_2012, religion_2013, religion_2014, religion_2015, religion_2016, religion_2017, religion_2018, religion_2019], axis=1)\n",
    "    religion = religion.reset_index()\n",
    "    religion=religion.drop('index', axis=1)\n",
    "    return religion "
   ]
  },
  {
   "cell_type": "code",
   "execution_count": 164,
   "metadata": {},
   "outputs": [],
   "source": [
    "def Religion(local):\n",
    "    i=0\n",
    "    j=1\n",
    "\n",
    "    for year in range(2005,2020):\n",
    "        a = globals()['religion_count_{}'.format(year)] = local[f\"종교.{i}\"]\n",
    "        b = globals()['religion_rating_{}'.format(year)] = local[f\"종교.{j}\"]\n",
    "        globals()['religion_{}'.format(year)] = pd.concat([a,b], axis=1)\n",
    "        globals()['religion_{}'.format(year)].columns = [f\"{year}_실적(건)\",f\"{year}_구성비(%)\"]\n",
    "        i += 2\n",
    "        j += 2\n",
    "\n",
    "    religion = pd.concat([religion_2005,religion_2006,religion_2007,religion_2008, religion_2009,religion_2010, religion_2011, religion_2012, religion_2013, religion_2014, religion_2015, religion_2016, religion_2017, religion_2018, religion_2019], axis=1)\n",
    "    religion = religion.reset_index()\n",
    "    religion=religion.drop('index', axis=1)\n",
    "    return religion"
   ]
  },
  {
   "cell_type": "code",
   "execution_count": 166,
   "metadata": {},
   "outputs": [
    {
     "output_type": "execute_result",
     "data": {
      "text/plain": [
       "  2005_실적(건) 2005_구성비(%) 2006_실적(건) 2006_구성비(%) 2007_실적(건) 2007_구성비(%)  \\\n",
       "0       3065         1.5       1841         0.8        755         0.4   \n",
       "1       2035         1.2       1223         0.7        511         0.4   \n",
       "2       1030         2.5        618         1.3        244         0.5   \n",
       "3       3238         2.4       2255         1.6       1016         0.7   \n",
       "4       2579         2.3       1779         1.6        777         0.7   \n",
       "\n",
       "  2008_실적(건) 2008_구성비(%) 2009_실적(건) 2009_구성비(%)  ... 2015_실적(건) 2015_구성비(%)  \\\n",
       "0        240         0.1        232         0.1  ...          -           -   \n",
       "1        166         0.1        144         0.1  ...          -           -   \n",
       "2         74         0.1         88         0.1  ...          -           -   \n",
       "3        445         0.3        542         0.3  ...       1147         0.3   \n",
       "4        309         0.2        366         0.3  ...        268         0.1   \n",
       "\n",
       "  2016_실적(건) 2016_구성비(%) 2017_실적(건) 2017_구성비(%) 2018_실적(건) 2018_구성비(%)  \\\n",
       "0          -           -          -           -        650         0.2   \n",
       "1          -           -          -           -        110         0.1   \n",
       "2          -           -          -           -        540         0.8   \n",
       "3        811         0.3        682         0.2          -           -   \n",
       "4        187         0.1        102         0.1          -           -   \n",
       "\n",
       "  2019_실적(건) 2019_구성비(%)  \n",
       "0        642         0.3  \n",
       "1        153         0.1  \n",
       "2        489         0.7  \n",
       "3          -           -  \n",
       "4          -           -  \n",
       "\n",
       "[5 rows x 30 columns]"
      ],
      "text/html": "<div>\n<style scoped>\n    .dataframe tbody tr th:only-of-type {\n        vertical-align: middle;\n    }\n\n    .dataframe tbody tr th {\n        vertical-align: top;\n    }\n\n    .dataframe thead th {\n        text-align: right;\n    }\n</style>\n<table border=\"1\" class=\"dataframe\">\n  <thead>\n    <tr style=\"text-align: right;\">\n      <th></th>\n      <th>2005_실적(건)</th>\n      <th>2005_구성비(%)</th>\n      <th>2006_실적(건)</th>\n      <th>2006_구성비(%)</th>\n      <th>2007_실적(건)</th>\n      <th>2007_구성비(%)</th>\n      <th>2008_실적(건)</th>\n      <th>2008_구성비(%)</th>\n      <th>2009_실적(건)</th>\n      <th>2009_구성비(%)</th>\n      <th>...</th>\n      <th>2015_실적(건)</th>\n      <th>2015_구성비(%)</th>\n      <th>2016_실적(건)</th>\n      <th>2016_구성비(%)</th>\n      <th>2017_실적(건)</th>\n      <th>2017_구성비(%)</th>\n      <th>2018_실적(건)</th>\n      <th>2018_구성비(%)</th>\n      <th>2019_실적(건)</th>\n      <th>2019_구성비(%)</th>\n    </tr>\n  </thead>\n  <tbody>\n    <tr>\n      <th>0</th>\n      <td>3065</td>\n      <td>1.5</td>\n      <td>1841</td>\n      <td>0.8</td>\n      <td>755</td>\n      <td>0.4</td>\n      <td>240</td>\n      <td>0.1</td>\n      <td>232</td>\n      <td>0.1</td>\n      <td>...</td>\n      <td>-</td>\n      <td>-</td>\n      <td>-</td>\n      <td>-</td>\n      <td>-</td>\n      <td>-</td>\n      <td>650</td>\n      <td>0.2</td>\n      <td>642</td>\n      <td>0.3</td>\n    </tr>\n    <tr>\n      <th>1</th>\n      <td>2035</td>\n      <td>1.2</td>\n      <td>1223</td>\n      <td>0.7</td>\n      <td>511</td>\n      <td>0.4</td>\n      <td>166</td>\n      <td>0.1</td>\n      <td>144</td>\n      <td>0.1</td>\n      <td>...</td>\n      <td>-</td>\n      <td>-</td>\n      <td>-</td>\n      <td>-</td>\n      <td>-</td>\n      <td>-</td>\n      <td>110</td>\n      <td>0.1</td>\n      <td>153</td>\n      <td>0.1</td>\n    </tr>\n    <tr>\n      <th>2</th>\n      <td>1030</td>\n      <td>2.5</td>\n      <td>618</td>\n      <td>1.3</td>\n      <td>244</td>\n      <td>0.5</td>\n      <td>74</td>\n      <td>0.1</td>\n      <td>88</td>\n      <td>0.1</td>\n      <td>...</td>\n      <td>-</td>\n      <td>-</td>\n      <td>-</td>\n      <td>-</td>\n      <td>-</td>\n      <td>-</td>\n      <td>540</td>\n      <td>0.8</td>\n      <td>489</td>\n      <td>0.7</td>\n    </tr>\n    <tr>\n      <th>3</th>\n      <td>3238</td>\n      <td>2.4</td>\n      <td>2255</td>\n      <td>1.6</td>\n      <td>1016</td>\n      <td>0.7</td>\n      <td>445</td>\n      <td>0.3</td>\n      <td>542</td>\n      <td>0.3</td>\n      <td>...</td>\n      <td>1147</td>\n      <td>0.3</td>\n      <td>811</td>\n      <td>0.3</td>\n      <td>682</td>\n      <td>0.2</td>\n      <td>-</td>\n      <td>-</td>\n      <td>-</td>\n      <td>-</td>\n    </tr>\n    <tr>\n      <th>4</th>\n      <td>2579</td>\n      <td>2.3</td>\n      <td>1779</td>\n      <td>1.6</td>\n      <td>777</td>\n      <td>0.7</td>\n      <td>309</td>\n      <td>0.2</td>\n      <td>366</td>\n      <td>0.3</td>\n      <td>...</td>\n      <td>268</td>\n      <td>0.1</td>\n      <td>187</td>\n      <td>0.1</td>\n      <td>102</td>\n      <td>0.1</td>\n      <td>-</td>\n      <td>-</td>\n      <td>-</td>\n      <td>-</td>\n    </tr>\n  </tbody>\n</table>\n<p>5 rows × 30 columns</p>\n</div>"
     },
     "metadata": {},
     "execution_count": 166
    }
   ],
   "source": [
    "Religion(seoul).head()"
   ]
  },
  {
   "source": [
    "### 일반단체"
   ],
   "cell_type": "markdown",
   "metadata": {}
  },
  {
   "cell_type": "code",
   "execution_count": 18,
   "metadata": {},
   "outputs": [],
   "source": [
    "# 일반단체\n",
    "def Normal(local):\n",
    "    normal_count_2005 = local[\"일반단체\"]\n",
    "    normal_rating_2005 = local[\"일반단체.1\"]\n",
    "    normal_2005 = pd.concat([normal_count_2005,normal_rating_2005], axis=1)\n",
    "    normal_2005.columns=['2005_실적(건)','2005_구성비(%)']\n",
    "\n",
    "    normal_count_2006 = local['일반단체.2']\n",
    "    normal_rating_2006 = local['일반단체.3']\n",
    "    normal_2006 = pd.concat([normal_count_2006,normal_rating_2006], axis=1)\n",
    "    normal_2006.columns=['2006_실적(건)','2006_구성비(%)']\n",
    "\n",
    "    normal_count_2007 = local['일반단체.4']\n",
    "    normal_rating_2007 = local['일반단체.5']\n",
    "    normal_2007 = pd.concat([normal_count_2007,normal_rating_2007], axis=1)\n",
    "    normal_2007.columns=['2007_실적(건)','2007_구성비(%)']\n",
    "    \n",
    "    normal_count_2008 = local['일반단체.6']\n",
    "    normal_rating_2008 = local['일반단체.7']\n",
    "    normal_2008 = pd.concat([normal_count_2008,normal_rating_2008], axis=1)\n",
    "    normal_2008.columns=['2008_실적(건)','2008_구성비(%)']\n",
    "    \n",
    "    normal_count_2009 = local['일반단체.8']\n",
    "    normal_rating_2009 = local['일반단체.9']\n",
    "    normal_2009 = pd.concat([normal_count_2009,normal_rating_2009], axis=1)\n",
    "    normal_2009.columns=['2009_실적(건)','2009_구성비(%)']\n",
    "    \n",
    "    normal_count_2010 = local['일반단체.10']\n",
    "    normal_rating_2010 = local['일반단체.11']\n",
    "    normal_2010 = pd.concat([normal_count_2010,normal_rating_2010], axis=1)\n",
    "    normal_2010.columns=['2010_실적(건)','2010_구성비(%)']\n",
    "    \n",
    "    normal_count_2011 = local['일반단체.12']\n",
    "    normal_rating_2011 = local['일반단체.13']\n",
    "    normal_2011 = pd.concat([normal_count_2011,normal_rating_2011], axis=1)\n",
    "    normal_2011.columns=['2011_실적(건)','2011_구성비(%)']\n",
    "    \n",
    "    normal_count_2012 = local['일반단체.14']\n",
    "    normal_rating_2012 = local['일반단체.15']\n",
    "    normal_2012 = pd.concat([normal_count_2012,normal_rating_2012], axis=1)\n",
    "    normal_2012.columns=['2012_실적(건)','2012_구성비(%)']\n",
    "    \n",
    "    normal_count_2013 = local['일반단체.16']\n",
    "    normal_rating_2013 = local['일반단체.17']\n",
    "    normal_2013 = pd.concat([normal_count_2013,normal_rating_2013], axis=1)\n",
    "    normal_2013.columns=['2013_실적(건)','2013_구성비(%)']\n",
    "    \n",
    "    normal_count_2014 = local['일반단체.18']\n",
    "    normal_rating_2014 = local['일반단체.19']\n",
    "    normal_2014 = pd.concat([normal_count_2014,normal_rating_2014], axis=1)\n",
    "    normal_2014.columns=['2014_실적(건)','2014_구성비(%)']\n",
    "    \n",
    "    normal_count_2015 = local['일반단체.20']\n",
    "    normal_rating_2015 = local['일반단체.21']\n",
    "    normal_2015 = pd.concat([normal_count_2015,normal_rating_2015], axis=1)\n",
    "    normal_2015.columns=['2015_실적(건)','2015_구성비(%)']\n",
    "    \n",
    "    normal_count_2016 = local['일반단체.22']\n",
    "    normal_rating_2016 = local['일반단체.23']\n",
    "    normal_2016 = pd.concat([normal_count_2016,normal_rating_2016], axis=1)\n",
    "    normal_2016.columns=['2016_실적(건)','2016_구성비(%)']\n",
    "    \n",
    "    normal_count_2017 = local['일반단체.24']\n",
    "    normal_rating_2017 = local['일반단체.25']\n",
    "    normal_2017 = pd.concat([normal_count_2017,normal_rating_2017], axis=1)\n",
    "    normal_2017.columns=['2017_실적(건)','2017_구성비(%)']\n",
    "    \n",
    "    normal_count_2018 = local['일반단체.26']\n",
    "    normal_rating_2018 = local['일반단체.27']\n",
    "    normal_2018 = pd.concat([normal_count_2018,normal_rating_2018], axis=1)\n",
    "    normal_2018.columns=['2018_실적(건)','2018_구성비(%)']\n",
    "    \n",
    "    normal_count_2019 = local['일반단체.28']\n",
    "    normal_rating_2019 = local['일반단체.29']\n",
    "    normal_2019 = pd.concat([normal_count_2019,normal_rating_2019], axis=1)\n",
    "    normal_2019.columns=['2019_실적(건)','2019_구성비(%)']\n",
    "    \n",
    "    normal = pd.concat([normal_2005,normal_2006,normal_2007,normal_2008, normal_2009,normal_2010, normal_2011, normal_2012, normal_2013, normal_2014, normal_2015, normal_2016, normal_2017, normal_2018, normal_2019], axis=1)\n",
    "    normal = normal.reset_index()\n",
    "    normal=normal.drop('index', axis=1)\n",
    "    return normal "
   ]
  },
  {
   "cell_type": "code",
   "execution_count": 167,
   "metadata": {},
   "outputs": [],
   "source": [
    "def Normal(local):\n",
    "    i=0\n",
    "    j=1\n",
    "\n",
    "    for year in range(2005,2020):\n",
    "        a = globals()['normal_count_{}'.format(year)] = local[f\"일반단체.{i}\"]\n",
    "        b = globals()['normal_rating_{}'.format(year)] = local[f\"일반단체.{j}\"]\n",
    "        globals()['normal_{}'.format(year)] = pd.concat([a,b], axis=1)\n",
    "        globals()['normal_{}'.format(year)].columns = [f\"{year}_실적(건)\",f\"{year}_구성비(%)\"]\n",
    "        i += 2\n",
    "        j += 2\n",
    "\n",
    "    normal = pd.concat([normal_2005,normal_2006,normal_2007,normal_2008, normal_2009,normal_2010, normal_2011, normal_2012, normal_2013, normal_2014, normal_2015, normal_2016, normal_2017, normal_2018, normal_2019], axis=1)\n",
    "    normal = normal.reset_index()\n",
    "    normal=normal.drop('index', axis=1)\n",
    "    return normal"
   ]
  },
  {
   "cell_type": "code",
   "execution_count": 168,
   "metadata": {},
   "outputs": [
    {
     "output_type": "execute_result",
     "data": {
      "text/plain": [
       "  2005_실적(건) 2005_구성비(%) 2006_실적(건) 2006_구성비(%) 2007_실적(건) 2007_구성비(%)  \\\n",
       "0      15056         7.1      13192         5.9      14040         7.5   \n",
       "1      12328         7.3      10819         6.2      11531         8.4   \n",
       "2       2728         6.7       2373           5       2509           5   \n",
       "3       9069         6.8       8892         6.4      10920           7   \n",
       "4       8079         7.1       7533         6.6       8075         6.9   \n",
       "\n",
       "  2008_실적(건) 2008_구성비(%) 2009_실적(건) 2009_구성비(%)  ... 2015_실적(건) 2015_구성비(%)  \\\n",
       "0      14281         6.9      16566         7.9  ...          -           -   \n",
       "1      11436         7.8      13981         9.5  ...          -           -   \n",
       "2       2845         4.7       2585         4.3  ...          -           -   \n",
       "3      10428         6.1      13806         7.1  ...      11653         3.5   \n",
       "4       7725         6.1      10453         7.3  ...       8901         3.8   \n",
       "\n",
       "  2016_실적(건) 2016_구성비(%) 2017_실적(건) 2017_구성비(%) 2018_실적(건) 2018_구성비(%)  \\\n",
       "0          -           -          -           -       3524         1.3   \n",
       "1          -           -          -           -       2648         1.4   \n",
       "2          -           -          -           -        876         1.2   \n",
       "3       8135         2.8       4413         1.6          -           -   \n",
       "4       6250           3       3336         1.7          -           -   \n",
       "\n",
       "  2019_실적(건) 2019_구성비(%)  \n",
       "0       4518         1.8  \n",
       "1       3183         1.7  \n",
       "2       1335           2  \n",
       "3          -           -  \n",
       "4          -           -  \n",
       "\n",
       "[5 rows x 30 columns]"
      ],
      "text/html": "<div>\n<style scoped>\n    .dataframe tbody tr th:only-of-type {\n        vertical-align: middle;\n    }\n\n    .dataframe tbody tr th {\n        vertical-align: top;\n    }\n\n    .dataframe thead th {\n        text-align: right;\n    }\n</style>\n<table border=\"1\" class=\"dataframe\">\n  <thead>\n    <tr style=\"text-align: right;\">\n      <th></th>\n      <th>2005_실적(건)</th>\n      <th>2005_구성비(%)</th>\n      <th>2006_실적(건)</th>\n      <th>2006_구성비(%)</th>\n      <th>2007_실적(건)</th>\n      <th>2007_구성비(%)</th>\n      <th>2008_실적(건)</th>\n      <th>2008_구성비(%)</th>\n      <th>2009_실적(건)</th>\n      <th>2009_구성비(%)</th>\n      <th>...</th>\n      <th>2015_실적(건)</th>\n      <th>2015_구성비(%)</th>\n      <th>2016_실적(건)</th>\n      <th>2016_구성비(%)</th>\n      <th>2017_실적(건)</th>\n      <th>2017_구성비(%)</th>\n      <th>2018_실적(건)</th>\n      <th>2018_구성비(%)</th>\n      <th>2019_실적(건)</th>\n      <th>2019_구성비(%)</th>\n    </tr>\n  </thead>\n  <tbody>\n    <tr>\n      <th>0</th>\n      <td>15056</td>\n      <td>7.1</td>\n      <td>13192</td>\n      <td>5.9</td>\n      <td>14040</td>\n      <td>7.5</td>\n      <td>14281</td>\n      <td>6.9</td>\n      <td>16566</td>\n      <td>7.9</td>\n      <td>...</td>\n      <td>-</td>\n      <td>-</td>\n      <td>-</td>\n      <td>-</td>\n      <td>-</td>\n      <td>-</td>\n      <td>3524</td>\n      <td>1.3</td>\n      <td>4518</td>\n      <td>1.8</td>\n    </tr>\n    <tr>\n      <th>1</th>\n      <td>12328</td>\n      <td>7.3</td>\n      <td>10819</td>\n      <td>6.2</td>\n      <td>11531</td>\n      <td>8.4</td>\n      <td>11436</td>\n      <td>7.8</td>\n      <td>13981</td>\n      <td>9.5</td>\n      <td>...</td>\n      <td>-</td>\n      <td>-</td>\n      <td>-</td>\n      <td>-</td>\n      <td>-</td>\n      <td>-</td>\n      <td>2648</td>\n      <td>1.4</td>\n      <td>3183</td>\n      <td>1.7</td>\n    </tr>\n    <tr>\n      <th>2</th>\n      <td>2728</td>\n      <td>6.7</td>\n      <td>2373</td>\n      <td>5</td>\n      <td>2509</td>\n      <td>5</td>\n      <td>2845</td>\n      <td>4.7</td>\n      <td>2585</td>\n      <td>4.3</td>\n      <td>...</td>\n      <td>-</td>\n      <td>-</td>\n      <td>-</td>\n      <td>-</td>\n      <td>-</td>\n      <td>-</td>\n      <td>876</td>\n      <td>1.2</td>\n      <td>1335</td>\n      <td>2</td>\n    </tr>\n    <tr>\n      <th>3</th>\n      <td>9069</td>\n      <td>6.8</td>\n      <td>8892</td>\n      <td>6.4</td>\n      <td>10920</td>\n      <td>7</td>\n      <td>10428</td>\n      <td>6.1</td>\n      <td>13806</td>\n      <td>7.1</td>\n      <td>...</td>\n      <td>11653</td>\n      <td>3.5</td>\n      <td>8135</td>\n      <td>2.8</td>\n      <td>4413</td>\n      <td>1.6</td>\n      <td>-</td>\n      <td>-</td>\n      <td>-</td>\n      <td>-</td>\n    </tr>\n    <tr>\n      <th>4</th>\n      <td>8079</td>\n      <td>7.1</td>\n      <td>7533</td>\n      <td>6.6</td>\n      <td>8075</td>\n      <td>6.9</td>\n      <td>7725</td>\n      <td>6.1</td>\n      <td>10453</td>\n      <td>7.3</td>\n      <td>...</td>\n      <td>8901</td>\n      <td>3.8</td>\n      <td>6250</td>\n      <td>3</td>\n      <td>3336</td>\n      <td>1.7</td>\n      <td>-</td>\n      <td>-</td>\n      <td>-</td>\n      <td>-</td>\n    </tr>\n  </tbody>\n</table>\n<p>5 rows × 30 columns</p>\n</div>"
     },
     "metadata": {},
     "execution_count": 168
    }
   ],
   "source": [
    "Normal(seoul).head()"
   ]
  },
  {
   "source": [
    "## 개인"
   ],
   "cell_type": "markdown",
   "metadata": {}
  },
  {
   "source": [
    "### 원내"
   ],
   "cell_type": "markdown",
   "metadata": {}
  },
  {
   "cell_type": "code",
   "execution_count": null,
   "metadata": {},
   "outputs": [],
   "source": [
    "def Normal(local):\n",
    "    normal_count_2005 = local[\"일반단체\"]\n",
    "    normal_rating_2005 = local[\"일반단체.1\"]\n",
    "    normal_2005 = pd.concat([normal_count_2005,normal_rating_2005], axis=1)\n",
    "    normal_2005.columns=['2005_실적(건)','2005_구성비(%)']\n",
    "\n",
    "    normal_count_2006 = local['일반단체.2']\n",
    "    normal_rating_2006 = local['일반단체.3']\n",
    "    normal_2006 = pd.concat([normal_count_2006,normal_rating_2006], axis=1)\n",
    "    normal_2006.columns=['2006_실적(건)','2006_구성비(%)']\n",
    "\n",
    "    normal_count_2007 = local['일반단체.4']\n",
    "    normal_rating_2007 = local['일반단체.5']\n",
    "    normal_2007 = pd.concat([normal_count_2007,normal_rating_2007], axis=1)\n",
    "    normal_2007.columns=['2007_실적(건)','2007_구성비(%)']\n",
    "    \n",
    "    normal_count_2008 = local['일반단체.6']\n",
    "    normal_rating_2008 = local['일반단체.7']\n",
    "    normal_2008 = pd.concat([normal_count_2008,normal_rating_2008], axis=1)\n",
    "    normal_2008.columns=['2008_실적(건)','2008_구성비(%)']\n",
    "    \n",
    "    normal_count_2009 = local['일반단체.8']\n",
    "    normal_rating_2009 = local['일반단체.9']\n",
    "    normal_2009 = pd.concat([normal_count_2009,normal_rating_2009], axis=1)\n",
    "    normal_2009.columns=['2009_실적(건)','2009_구성비(%)']\n",
    "    \n",
    "    normal_count_2010 = local['일반단체.10']\n",
    "    normal_rating_2010 = local['일반단체.11']\n",
    "    normal_2010 = pd.concat([normal_count_2010,normal_rating_2010], axis=1)\n",
    "    normal_2010.columns=['2010_실적(건)','2010_구성비(%)']\n",
    "    \n",
    "    normal_count_2011 = local['일반단체.12']\n",
    "    normal_rating_2011 = local['일반단체.13']\n",
    "    normal_2011 = pd.concat([normal_count_2011,normal_rating_2011], axis=1)\n",
    "    normal_2011.columns=['2011_실적(건)','2011_구성비(%)']\n",
    "    \n",
    "    normal_count_2012 = local['일반단체.14']\n",
    "    normal_rating_2012 = local['일반단체.15']\n",
    "    normal_2012 = pd.concat([normal_count_2012,normal_rating_2012], axis=1)\n",
    "    normal_2012.columns=['2012_실적(건)','2012_구성비(%)']\n",
    "    \n",
    "    normal_count_2013 = local['일반단체.16']\n",
    "    normal_rating_2013 = local['일반단체.17']\n",
    "    normal_2013 = pd.concat([normal_count_2013,normal_rating_2013], axis=1)\n",
    "    normal_2013.columns=['2013_실적(건)','2013_구성비(%)']\n",
    "    \n",
    "    normal_count_2014 = local['일반단체.18']\n",
    "    normal_rating_2014 = local['일반단체.19']\n",
    "    normal_2014 = pd.concat([normal_count_2014,normal_rating_2014], axis=1)\n",
    "    normal_2014.columns=['2014_실적(건)','2014_구성비(%)']\n",
    "    \n",
    "    normal_count_2015 = local['일반단체.20']\n",
    "    normal_rating_2015 = local['일반단체.21']\n",
    "    normal_2015 = pd.concat([normal_count_2015,normal_rating_2015], axis=1)\n",
    "    normal_2015.columns=['2015_실적(건)','2015_구성비(%)']\n",
    "    \n",
    "    normal_count_2016 = local['일반단체.22']\n",
    "    normal_rating_2016 = local['일반단체.23']\n",
    "    normal_2016 = pd.concat([normal_count_2016,normal_rating_2016], axis=1)\n",
    "    normal_2016.columns=['2016_실적(건)','2016_구성비(%)']\n",
    "    \n",
    "    normal_count_2017 = local['일반단체.24']\n",
    "    normal_rating_2017 = local['일반단체.25']\n",
    "    normal_2017 = pd.concat([normal_count_2017,normal_rating_2017], axis=1)\n",
    "    normal_2017.columns=['2017_실적(건)','2017_구성비(%)']\n",
    "    \n",
    "    normal_count_2018 = local['일반단체.26']\n",
    "    normal_rating_2018 = local['일반단체.27']\n",
    "    normal_2018 = pd.concat([normal_count_2018,normal_rating_2018], axis=1)\n",
    "    normal_2018.columns=['2018_실적(건)','2018_구성비(%)']\n",
    "    \n",
    "    normal_count_2019 = local['일반단체.28']\n",
    "    normal_rating_2019 = local['일반단체.29']\n",
    "    normal_2019 = pd.concat([normal_count_2019,normal_rating_2019], axis=1)\n",
    "    normal_2019.columns=['2019_실적(건)','2019_구성비(%)']\n",
    "    \n",
    "    normal = pd.concat([normal_2005,normal_2006,normal_2007,normal_2008, normal_2009,normal_2010, normal_2011, normal_2012, normal_2013, normal_2014, normal_2015, normal_2016, normal_2017, normal_2018, normal_2019], axis=1)\n",
    "    normal = normal.reset_index()\n",
    "    normal=normal.drop('index', axis=1)\n",
    "    return normal "
   ]
  },
  {
   "source": [
    "---"
   ],
   "cell_type": "markdown",
   "metadata": {}
  },
  {
   "cell_type": "markdown",
   "metadata": {},
   "source": [
    "## 지역별로 구분하기\n",
    "- df[df['혈액원별(2)'].str.contains('서울')] 특정 문자열이 포함된 컬럼 가져오기"
   ]
  },
  {
   "source": [
    "### 서울 데이터 "
   ],
   "cell_type": "markdown",
   "metadata": {}
  },
  {
   "cell_type": "code",
   "execution_count": 145,
   "metadata": {
    "scrolled": true
   },
   "outputs": [
    {
     "output_type": "execute_result",
     "data": {
      "text/plain": [
       "   혈액원별(2) 성별(1)      소계    소계.1  소계.2 고등학교.0 고등학교.1 대학교.0 대학교.1  군부대.0  ...  \\\n",
       "9     서울중앙     계  210606  115114  54.7  20574    9.8  8258   3.9  68161  ...   \n",
       "10    서울중앙     남  169824  102272  60.2  14522    8.6  5349   3.1  68038  ...   \n",
       "11    서울중앙     여   40782   12842  31.5   6052   14.8  2909   7.1    123  ...   \n",
       "12    서울서부     계  133579   55697  41.7  14614   10.9  1546   1.2  27230  ...   \n",
       "13    서울서부     남  113857   49825  43.8  10700    9.4  1268   1.1  27199  ...   \n",
       "\n",
       "   일반단체.28 일반단체.29   소계.73 소계.74 원내.28 원내.29 헌혈의집.28 헌혈의집.29 가두.28 가두.29  \n",
       "9     4518     1.8  200637  79.9  5246   2.1  195370    77.8    21     0  \n",
       "10    3183     1.7  139438  76.2  3840   2.1  135584    74.1    14     0  \n",
       "11    1335       2   61199  89.8  1406   2.1   59786    87.8     7     0  \n",
       "12       -       -       -     -     -     -       -       -     -     -  \n",
       "13       -       -       -     -     -     -       -       -     -     -  \n",
       "\n",
       "[5 rows x 317 columns]"
      ],
      "text/html": "<div>\n<style scoped>\n    .dataframe tbody tr th:only-of-type {\n        vertical-align: middle;\n    }\n\n    .dataframe tbody tr th {\n        vertical-align: top;\n    }\n\n    .dataframe thead th {\n        text-align: right;\n    }\n</style>\n<table border=\"1\" class=\"dataframe\">\n  <thead>\n    <tr style=\"text-align: right;\">\n      <th></th>\n      <th>혈액원별(2)</th>\n      <th>성별(1)</th>\n      <th>소계</th>\n      <th>소계.1</th>\n      <th>소계.2</th>\n      <th>고등학교.0</th>\n      <th>고등학교.1</th>\n      <th>대학교.0</th>\n      <th>대학교.1</th>\n      <th>군부대.0</th>\n      <th>...</th>\n      <th>일반단체.28</th>\n      <th>일반단체.29</th>\n      <th>소계.73</th>\n      <th>소계.74</th>\n      <th>원내.28</th>\n      <th>원내.29</th>\n      <th>헌혈의집.28</th>\n      <th>헌혈의집.29</th>\n      <th>가두.28</th>\n      <th>가두.29</th>\n    </tr>\n  </thead>\n  <tbody>\n    <tr>\n      <th>9</th>\n      <td>서울중앙</td>\n      <td>계</td>\n      <td>210606</td>\n      <td>115114</td>\n      <td>54.7</td>\n      <td>20574</td>\n      <td>9.8</td>\n      <td>8258</td>\n      <td>3.9</td>\n      <td>68161</td>\n      <td>...</td>\n      <td>4518</td>\n      <td>1.8</td>\n      <td>200637</td>\n      <td>79.9</td>\n      <td>5246</td>\n      <td>2.1</td>\n      <td>195370</td>\n      <td>77.8</td>\n      <td>21</td>\n      <td>0</td>\n    </tr>\n    <tr>\n      <th>10</th>\n      <td>서울중앙</td>\n      <td>남</td>\n      <td>169824</td>\n      <td>102272</td>\n      <td>60.2</td>\n      <td>14522</td>\n      <td>8.6</td>\n      <td>5349</td>\n      <td>3.1</td>\n      <td>68038</td>\n      <td>...</td>\n      <td>3183</td>\n      <td>1.7</td>\n      <td>139438</td>\n      <td>76.2</td>\n      <td>3840</td>\n      <td>2.1</td>\n      <td>135584</td>\n      <td>74.1</td>\n      <td>14</td>\n      <td>0</td>\n    </tr>\n    <tr>\n      <th>11</th>\n      <td>서울중앙</td>\n      <td>여</td>\n      <td>40782</td>\n      <td>12842</td>\n      <td>31.5</td>\n      <td>6052</td>\n      <td>14.8</td>\n      <td>2909</td>\n      <td>7.1</td>\n      <td>123</td>\n      <td>...</td>\n      <td>1335</td>\n      <td>2</td>\n      <td>61199</td>\n      <td>89.8</td>\n      <td>1406</td>\n      <td>2.1</td>\n      <td>59786</td>\n      <td>87.8</td>\n      <td>7</td>\n      <td>0</td>\n    </tr>\n    <tr>\n      <th>12</th>\n      <td>서울서부</td>\n      <td>계</td>\n      <td>133579</td>\n      <td>55697</td>\n      <td>41.7</td>\n      <td>14614</td>\n      <td>10.9</td>\n      <td>1546</td>\n      <td>1.2</td>\n      <td>27230</td>\n      <td>...</td>\n      <td>-</td>\n      <td>-</td>\n      <td>-</td>\n      <td>-</td>\n      <td>-</td>\n      <td>-</td>\n      <td>-</td>\n      <td>-</td>\n      <td>-</td>\n      <td>-</td>\n    </tr>\n    <tr>\n      <th>13</th>\n      <td>서울서부</td>\n      <td>남</td>\n      <td>113857</td>\n      <td>49825</td>\n      <td>43.8</td>\n      <td>10700</td>\n      <td>9.4</td>\n      <td>1268</td>\n      <td>1.1</td>\n      <td>27199</td>\n      <td>...</td>\n      <td>-</td>\n      <td>-</td>\n      <td>-</td>\n      <td>-</td>\n      <td>-</td>\n      <td>-</td>\n      <td>-</td>\n      <td>-</td>\n      <td>-</td>\n      <td>-</td>\n    </tr>\n  </tbody>\n</table>\n<p>5 rows × 317 columns</p>\n</div>"
     },
     "metadata": {},
     "execution_count": 145
    }
   ],
   "source": [
    "# 서울 데이터 \n",
    "seoul_center=df[9:12]\n",
    "seoul_west=df[12:15]\n",
    "seoul_south=df[15:18]\n",
    "seoul_east=df[18:21]\n",
    "\n",
    "# 서울 데이터 병합\n",
    "seoul = pd.concat([seoul_center,seoul_west,seoul_south,seoul_east])\n",
    "seoul.head()"
   ]
  },
  {
   "source": [
    "### 부산"
   ],
   "cell_type": "markdown",
   "metadata": {}
  },
  {
   "cell_type": "code",
   "execution_count": 15,
   "metadata": {
    "scrolled": true
   },
   "outputs": [
    {
     "output_type": "execute_result",
     "data": {
      "text/plain": [
       "  2005_실적(건) 2005_구성비(%) 2006_실적(건) 2006_구성비(%) 2007_실적(건) 2007_구성비(%)  \\\n",
       "0      21341          10      25000        11.8      22661          12   \n",
       "1      16943        10.4      19987        12.5      17689          12   \n",
       "2       4398         8.8       5013         9.6       4972        11.9   \n",
       "\n",
       "  2008_실적(건) 2008_구성비(%) 2009_실적(건) 2009_구성비(%)  ... 2015_실적(건) 2015_구성비(%)  \\\n",
       "0      25697        12.2      18207         8.4  ...      22400         9.4   \n",
       "1      20409          13      14907         9.3  ...      16548        10.4   \n",
       "2       5288          10       3300         5.8  ...       5852         7.4   \n",
       "\n",
       "  2016_실적(건) 2016_구성비(%) 2017_실적(건) 2017_구성비(%) 2018_실적(건) 2018_구성비(%)  \\\n",
       "0      24835        12.1      22798        10.6      22086         9.9   \n",
       "1      18188        12.7      16285        10.7      16020        10.2   \n",
       "2       6647        10.8       6513        10.3       6066         9.1   \n",
       "\n",
       "  2019_실적(건) 2019_구성비(%)  \n",
       "0      21751        10.2  \n",
       "1      15513        10.4  \n",
       "2       6238         9.8  \n",
       "\n",
       "[3 rows x 30 columns]"
      ],
      "text/html": "<div>\n<style scoped>\n    .dataframe tbody tr th:only-of-type {\n        vertical-align: middle;\n    }\n\n    .dataframe tbody tr th {\n        vertical-align: top;\n    }\n\n    .dataframe thead th {\n        text-align: right;\n    }\n</style>\n<table border=\"1\" class=\"dataframe\">\n  <thead>\n    <tr style=\"text-align: right;\">\n      <th></th>\n      <th>2005_실적(건)</th>\n      <th>2005_구성비(%)</th>\n      <th>2006_실적(건)</th>\n      <th>2006_구성비(%)</th>\n      <th>2007_실적(건)</th>\n      <th>2007_구성비(%)</th>\n      <th>2008_실적(건)</th>\n      <th>2008_구성비(%)</th>\n      <th>2009_실적(건)</th>\n      <th>2009_구성비(%)</th>\n      <th>...</th>\n      <th>2015_실적(건)</th>\n      <th>2015_구성비(%)</th>\n      <th>2016_실적(건)</th>\n      <th>2016_구성비(%)</th>\n      <th>2017_실적(건)</th>\n      <th>2017_구성비(%)</th>\n      <th>2018_실적(건)</th>\n      <th>2018_구성비(%)</th>\n      <th>2019_실적(건)</th>\n      <th>2019_구성비(%)</th>\n    </tr>\n  </thead>\n  <tbody>\n    <tr>\n      <th>0</th>\n      <td>21341</td>\n      <td>10</td>\n      <td>25000</td>\n      <td>11.8</td>\n      <td>22661</td>\n      <td>12</td>\n      <td>25697</td>\n      <td>12.2</td>\n      <td>18207</td>\n      <td>8.4</td>\n      <td>...</td>\n      <td>22400</td>\n      <td>9.4</td>\n      <td>24835</td>\n      <td>12.1</td>\n      <td>22798</td>\n      <td>10.6</td>\n      <td>22086</td>\n      <td>9.9</td>\n      <td>21751</td>\n      <td>10.2</td>\n    </tr>\n    <tr>\n      <th>1</th>\n      <td>16943</td>\n      <td>10.4</td>\n      <td>19987</td>\n      <td>12.5</td>\n      <td>17689</td>\n      <td>12</td>\n      <td>20409</td>\n      <td>13</td>\n      <td>14907</td>\n      <td>9.3</td>\n      <td>...</td>\n      <td>16548</td>\n      <td>10.4</td>\n      <td>18188</td>\n      <td>12.7</td>\n      <td>16285</td>\n      <td>10.7</td>\n      <td>16020</td>\n      <td>10.2</td>\n      <td>15513</td>\n      <td>10.4</td>\n    </tr>\n    <tr>\n      <th>2</th>\n      <td>4398</td>\n      <td>8.8</td>\n      <td>5013</td>\n      <td>9.6</td>\n      <td>4972</td>\n      <td>11.9</td>\n      <td>5288</td>\n      <td>10</td>\n      <td>3300</td>\n      <td>5.8</td>\n      <td>...</td>\n      <td>5852</td>\n      <td>7.4</td>\n      <td>6647</td>\n      <td>10.8</td>\n      <td>6513</td>\n      <td>10.3</td>\n      <td>6066</td>\n      <td>9.1</td>\n      <td>6238</td>\n      <td>9.8</td>\n    </tr>\n  </tbody>\n</table>\n<p>3 rows × 30 columns</p>\n</div>"
     },
     "metadata": {},
     "execution_count": 15
    }
   ],
   "source": [
    "# 부산 데이터 \n",
    "busan=df[21:24]\n",
    "busan.head()"
   ]
  },
  {
   "source": [
    "### 대구"
   ],
   "cell_type": "markdown",
   "metadata": {}
  },
  {
   "cell_type": "code",
   "execution_count": 17,
   "metadata": {},
   "outputs": [
    {
     "output_type": "execute_result",
     "data": {
      "text/plain": [
       "  2005_실적(건) 2005_구성비(%) 2006_실적(건) 2006_구성비(%) 2007_실적(건) 2007_구성비(%)  \\\n",
       "0      33076          17      34194        18.1      30588        19.4   \n",
       "1      23884        16.3      24662        17.6      22749        19.4   \n",
       "2       9192        19.4       9532        19.4       7839        19.5   \n",
       "\n",
       "  2008_실적(건) 2008_구성비(%) 2009_실적(건) 2009_구성비(%)  ... 2015_실적(건) 2015_구성비(%)  \\\n",
       "0      34637        18.4      31922        14.8  ...      31962        12.3   \n",
       "1      25111          19      23388        15.4  ...      20821        11.7   \n",
       "2       9526        17.1       8534        13.4  ...      11141        13.5   \n",
       "\n",
       "  2016_실적(건) 2016_구성비(%) 2017_실적(건) 2017_구성비(%) 2018_실적(건) 2018_구성비(%)  \\\n",
       "0      36194        15.3      35050        14.6      33960        13.8   \n",
       "1      24738        14.7      23705        13.7      23152        13.1   \n",
       "2      11456        16.7      11345        16.6      10808        15.6   \n",
       "\n",
       "  2019_실적(건) 2019_구성비(%)  \n",
       "0      27395        11.8  \n",
       "1      18759        11.2  \n",
       "2       8636        13.2  \n",
       "\n",
       "[3 rows x 30 columns]"
      ],
      "text/html": "<div>\n<style scoped>\n    .dataframe tbody tr th:only-of-type {\n        vertical-align: middle;\n    }\n\n    .dataframe tbody tr th {\n        vertical-align: top;\n    }\n\n    .dataframe thead th {\n        text-align: right;\n    }\n</style>\n<table border=\"1\" class=\"dataframe\">\n  <thead>\n    <tr style=\"text-align: right;\">\n      <th></th>\n      <th>2005_실적(건)</th>\n      <th>2005_구성비(%)</th>\n      <th>2006_실적(건)</th>\n      <th>2006_구성비(%)</th>\n      <th>2007_실적(건)</th>\n      <th>2007_구성비(%)</th>\n      <th>2008_실적(건)</th>\n      <th>2008_구성비(%)</th>\n      <th>2009_실적(건)</th>\n      <th>2009_구성비(%)</th>\n      <th>...</th>\n      <th>2015_실적(건)</th>\n      <th>2015_구성비(%)</th>\n      <th>2016_실적(건)</th>\n      <th>2016_구성비(%)</th>\n      <th>2017_실적(건)</th>\n      <th>2017_구성비(%)</th>\n      <th>2018_실적(건)</th>\n      <th>2018_구성비(%)</th>\n      <th>2019_실적(건)</th>\n      <th>2019_구성비(%)</th>\n    </tr>\n  </thead>\n  <tbody>\n    <tr>\n      <th>0</th>\n      <td>33076</td>\n      <td>17</td>\n      <td>34194</td>\n      <td>18.1</td>\n      <td>30588</td>\n      <td>19.4</td>\n      <td>34637</td>\n      <td>18.4</td>\n      <td>31922</td>\n      <td>14.8</td>\n      <td>...</td>\n      <td>31962</td>\n      <td>12.3</td>\n      <td>36194</td>\n      <td>15.3</td>\n      <td>35050</td>\n      <td>14.6</td>\n      <td>33960</td>\n      <td>13.8</td>\n      <td>27395</td>\n      <td>11.8</td>\n    </tr>\n    <tr>\n      <th>1</th>\n      <td>23884</td>\n      <td>16.3</td>\n      <td>24662</td>\n      <td>17.6</td>\n      <td>22749</td>\n      <td>19.4</td>\n      <td>25111</td>\n      <td>19</td>\n      <td>23388</td>\n      <td>15.4</td>\n      <td>...</td>\n      <td>20821</td>\n      <td>11.7</td>\n      <td>24738</td>\n      <td>14.7</td>\n      <td>23705</td>\n      <td>13.7</td>\n      <td>23152</td>\n      <td>13.1</td>\n      <td>18759</td>\n      <td>11.2</td>\n    </tr>\n    <tr>\n      <th>2</th>\n      <td>9192</td>\n      <td>19.4</td>\n      <td>9532</td>\n      <td>19.4</td>\n      <td>7839</td>\n      <td>19.5</td>\n      <td>9526</td>\n      <td>17.1</td>\n      <td>8534</td>\n      <td>13.4</td>\n      <td>...</td>\n      <td>11141</td>\n      <td>13.5</td>\n      <td>11456</td>\n      <td>16.7</td>\n      <td>11345</td>\n      <td>16.6</td>\n      <td>10808</td>\n      <td>15.6</td>\n      <td>8636</td>\n      <td>13.2</td>\n    </tr>\n  </tbody>\n</table>\n<p>3 rows × 30 columns</p>\n</div>"
     },
     "metadata": {},
     "execution_count": 17
    }
   ],
   "source": [
    "# 대구 데이터 \n",
    "daegu=df[24:27]\n",
    "daegu.head()"
   ]
  },
  {
   "source": [
    "### 인천"
   ],
   "cell_type": "markdown",
   "metadata": {}
  },
  {
   "cell_type": "code",
   "execution_count": 18,
   "metadata": {
    "scrolled": true
   },
   "outputs": [
    {
     "output_type": "execute_result",
     "data": {
      "text/plain": [
       "  2005_실적(건) 2005_구성비(%) 2006_실적(건) 2006_구성비(%) 2007_실적(건) 2007_구성비(%)  \\\n",
       "0      31133        24.1      28184        23.3      22134        20.1   \n",
       "1      20834          23      18567        21.4      15455        19.5   \n",
       "2      10299        26.6       9617        28.2       6679        21.5   \n",
       "\n",
       "  2008_실적(건) 2008_구성비(%) 2009_실적(건) 2009_구성비(%)  ... 2015_실적(건) 2015_구성비(%)  \\\n",
       "0      23664        19.4      18343          14  ...      24770        13.7   \n",
       "1      16366        18.9      12983        14.4  ...      16772        13.8   \n",
       "2       7298        20.8       5360        13.1  ...       7998        13.5   \n",
       "\n",
       "  2016_실적(건) 2016_구성비(%) 2017_실적(건) 2017_구성비(%) 2018_실적(건) 2018_구성비(%)  \\\n",
       "0      26219        16.2      24107        14.7      21747        13.8   \n",
       "1      17843        15.8      15862        13.7      14641        13.2   \n",
       "2       8376        17.3       8245        17.3       7106        15.3   \n",
       "\n",
       "  2019_실적(건) 2019_구성비(%)  \n",
       "0      20129        12.7  \n",
       "1      13105        11.7  \n",
       "2       7024        15.1  \n",
       "\n",
       "[3 rows x 30 columns]"
      ],
      "text/html": "<div>\n<style scoped>\n    .dataframe tbody tr th:only-of-type {\n        vertical-align: middle;\n    }\n\n    .dataframe tbody tr th {\n        vertical-align: top;\n    }\n\n    .dataframe thead th {\n        text-align: right;\n    }\n</style>\n<table border=\"1\" class=\"dataframe\">\n  <thead>\n    <tr style=\"text-align: right;\">\n      <th></th>\n      <th>2005_실적(건)</th>\n      <th>2005_구성비(%)</th>\n      <th>2006_실적(건)</th>\n      <th>2006_구성비(%)</th>\n      <th>2007_실적(건)</th>\n      <th>2007_구성비(%)</th>\n      <th>2008_실적(건)</th>\n      <th>2008_구성비(%)</th>\n      <th>2009_실적(건)</th>\n      <th>2009_구성비(%)</th>\n      <th>...</th>\n      <th>2015_실적(건)</th>\n      <th>2015_구성비(%)</th>\n      <th>2016_실적(건)</th>\n      <th>2016_구성비(%)</th>\n      <th>2017_실적(건)</th>\n      <th>2017_구성비(%)</th>\n      <th>2018_실적(건)</th>\n      <th>2018_구성비(%)</th>\n      <th>2019_실적(건)</th>\n      <th>2019_구성비(%)</th>\n    </tr>\n  </thead>\n  <tbody>\n    <tr>\n      <th>0</th>\n      <td>31133</td>\n      <td>24.1</td>\n      <td>28184</td>\n      <td>23.3</td>\n      <td>22134</td>\n      <td>20.1</td>\n      <td>23664</td>\n      <td>19.4</td>\n      <td>18343</td>\n      <td>14</td>\n      <td>...</td>\n      <td>24770</td>\n      <td>13.7</td>\n      <td>26219</td>\n      <td>16.2</td>\n      <td>24107</td>\n      <td>14.7</td>\n      <td>21747</td>\n      <td>13.8</td>\n      <td>20129</td>\n      <td>12.7</td>\n    </tr>\n    <tr>\n      <th>1</th>\n      <td>20834</td>\n      <td>23</td>\n      <td>18567</td>\n      <td>21.4</td>\n      <td>15455</td>\n      <td>19.5</td>\n      <td>16366</td>\n      <td>18.9</td>\n      <td>12983</td>\n      <td>14.4</td>\n      <td>...</td>\n      <td>16772</td>\n      <td>13.8</td>\n      <td>17843</td>\n      <td>15.8</td>\n      <td>15862</td>\n      <td>13.7</td>\n      <td>14641</td>\n      <td>13.2</td>\n      <td>13105</td>\n      <td>11.7</td>\n    </tr>\n    <tr>\n      <th>2</th>\n      <td>10299</td>\n      <td>26.6</td>\n      <td>9617</td>\n      <td>28.2</td>\n      <td>6679</td>\n      <td>21.5</td>\n      <td>7298</td>\n      <td>20.8</td>\n      <td>5360</td>\n      <td>13.1</td>\n      <td>...</td>\n      <td>7998</td>\n      <td>13.5</td>\n      <td>8376</td>\n      <td>17.3</td>\n      <td>8245</td>\n      <td>17.3</td>\n      <td>7106</td>\n      <td>15.3</td>\n      <td>7024</td>\n      <td>15.1</td>\n    </tr>\n  </tbody>\n</table>\n<p>3 rows × 30 columns</p>\n</div>"
     },
     "metadata": {},
     "execution_count": 18
    }
   ],
   "source": [
    "# 인천 데이터 \n",
    "incheon=df[27:30]\n",
    "incheon.head()\n",
    "\n",
    "# 인천 년도별 고등학생 헌혈수\n",
    "high_incheon = high_school(incheon)\n",
    "high_incheon.head()"
   ]
  },
  {
   "source": [
    "### 울산"
   ],
   "cell_type": "markdown",
   "metadata": {}
  },
  {
   "cell_type": "code",
   "execution_count": 20,
   "metadata": {
    "scrolled": true
   },
   "outputs": [
    {
     "output_type": "execute_result",
     "data": {
      "text/plain": [
       "  2005_실적(건) 2005_구성비(%) 2006_실적(건) 2006_구성비(%) 2007_실적(건) 2007_구성비(%)  \\\n",
       "0      12898        16.4      10543        12.8      11314        17.3   \n",
       "1      10232        16.5       8872        13.7       9665        18.4   \n",
       "2       2666        15.8       1671         9.7       1649        12.9   \n",
       "\n",
       "  2008_실적(건) 2008_구성비(%) 2009_실적(건) 2009_구성비(%)  ... 2015_실적(건) 2015_구성비(%)  \\\n",
       "0      12519        17.6      14360        19.4  ...      19737        21.1   \n",
       "1      10556        18.8      11802        20.6  ...      15279        21.8   \n",
       "2       1963        12.9       2558        15.4  ...       4458        18.8   \n",
       "\n",
       "  2016_실적(건) 2016_구성비(%) 2017_실적(건) 2017_구성비(%) 2018_실적(건) 2018_구성비(%)  \\\n",
       "0      20625        23.6      19986        23.2      18465        21.3   \n",
       "1      15123          23      14569        22.1      13203          20   \n",
       "2       5502        25.5       5417        26.6       5262        25.4   \n",
       "\n",
       "  2019_실적(건) 2019_구성비(%)  \n",
       "0      18323          20  \n",
       "1      13013          19  \n",
       "2       5310          23  \n",
       "\n",
       "[3 rows x 30 columns]"
      ],
      "text/html": "<div>\n<style scoped>\n    .dataframe tbody tr th:only-of-type {\n        vertical-align: middle;\n    }\n\n    .dataframe tbody tr th {\n        vertical-align: top;\n    }\n\n    .dataframe thead th {\n        text-align: right;\n    }\n</style>\n<table border=\"1\" class=\"dataframe\">\n  <thead>\n    <tr style=\"text-align: right;\">\n      <th></th>\n      <th>2005_실적(건)</th>\n      <th>2005_구성비(%)</th>\n      <th>2006_실적(건)</th>\n      <th>2006_구성비(%)</th>\n      <th>2007_실적(건)</th>\n      <th>2007_구성비(%)</th>\n      <th>2008_실적(건)</th>\n      <th>2008_구성비(%)</th>\n      <th>2009_실적(건)</th>\n      <th>2009_구성비(%)</th>\n      <th>...</th>\n      <th>2015_실적(건)</th>\n      <th>2015_구성비(%)</th>\n      <th>2016_실적(건)</th>\n      <th>2016_구성비(%)</th>\n      <th>2017_실적(건)</th>\n      <th>2017_구성비(%)</th>\n      <th>2018_실적(건)</th>\n      <th>2018_구성비(%)</th>\n      <th>2019_실적(건)</th>\n      <th>2019_구성비(%)</th>\n    </tr>\n  </thead>\n  <tbody>\n    <tr>\n      <th>0</th>\n      <td>12898</td>\n      <td>16.4</td>\n      <td>10543</td>\n      <td>12.8</td>\n      <td>11314</td>\n      <td>17.3</td>\n      <td>12519</td>\n      <td>17.6</td>\n      <td>14360</td>\n      <td>19.4</td>\n      <td>...</td>\n      <td>19737</td>\n      <td>21.1</td>\n      <td>20625</td>\n      <td>23.6</td>\n      <td>19986</td>\n      <td>23.2</td>\n      <td>18465</td>\n      <td>21.3</td>\n      <td>18323</td>\n      <td>20</td>\n    </tr>\n    <tr>\n      <th>1</th>\n      <td>10232</td>\n      <td>16.5</td>\n      <td>8872</td>\n      <td>13.7</td>\n      <td>9665</td>\n      <td>18.4</td>\n      <td>10556</td>\n      <td>18.8</td>\n      <td>11802</td>\n      <td>20.6</td>\n      <td>...</td>\n      <td>15279</td>\n      <td>21.8</td>\n      <td>15123</td>\n      <td>23</td>\n      <td>14569</td>\n      <td>22.1</td>\n      <td>13203</td>\n      <td>20</td>\n      <td>13013</td>\n      <td>19</td>\n    </tr>\n    <tr>\n      <th>2</th>\n      <td>2666</td>\n      <td>15.8</td>\n      <td>1671</td>\n      <td>9.7</td>\n      <td>1649</td>\n      <td>12.9</td>\n      <td>1963</td>\n      <td>12.9</td>\n      <td>2558</td>\n      <td>15.4</td>\n      <td>...</td>\n      <td>4458</td>\n      <td>18.8</td>\n      <td>5502</td>\n      <td>25.5</td>\n      <td>5417</td>\n      <td>26.6</td>\n      <td>5262</td>\n      <td>25.4</td>\n      <td>5310</td>\n      <td>23</td>\n    </tr>\n  </tbody>\n</table>\n<p>3 rows × 30 columns</p>\n</div>"
     },
     "metadata": {},
     "execution_count": 20
    }
   ],
   "source": [
    "# 울산 데이터 \n",
    "ulsan=df[30:33]\n",
    "ulsan.head()"
   ]
  },
  {
   "source": [
    "### 경기"
   ],
   "cell_type": "markdown",
   "metadata": {}
  },
  {
   "cell_type": "code",
   "execution_count": 21,
   "metadata": {},
   "outputs": [
    {
     "output_type": "execute_result",
     "data": {
      "text/plain": [
       "  2005_실적(건) 2005_구성비(%) 2006_실적(건) 2006_구성비(%) 2007_실적(건) 2007_구성비(%)  \\\n",
       "0      16231        11.7      25915        18.3      24385        18.9   \n",
       "1      14392        12.3      22093        19.2      19469        18.9   \n",
       "2       1839         8.8       3822        14.3       4916        18.7   \n",
       "\n",
       "  2008_실적(건) 2008_구성비(%) 2009_실적(건) 2009_구성비(%)  ... 2015_실적(건) 2015_구성비(%)  \\\n",
       "0      26711        18.9      23268        14.1  ...      26520        12.1   \n",
       "1      20545        18.7      17408        14.2  ...      17707        11.1   \n",
       "2       6166        19.6       5860        13.8  ...       8813        14.8   \n",
       "\n",
       "  2016_실적(건) 2016_구성비(%) 2017_실적(건) 2017_구성비(%) 2018_실적(건) 2018_구성비(%)  \\\n",
       "0      28816          14      26166        12.4      19484         9.6   \n",
       "1      19690        12.7      17977        11.3      13471         8.6   \n",
       "2       9126          18       8189          16       6013        12.7   \n",
       "\n",
       "  2019_실적(건) 2019_구성비(%)  \n",
       "0      22529        10.7  \n",
       "1      14819         9.3  \n",
       "2       7710        14.8  \n",
       "\n",
       "[3 rows x 30 columns]"
      ],
      "text/html": "<div>\n<style scoped>\n    .dataframe tbody tr th:only-of-type {\n        vertical-align: middle;\n    }\n\n    .dataframe tbody tr th {\n        vertical-align: top;\n    }\n\n    .dataframe thead th {\n        text-align: right;\n    }\n</style>\n<table border=\"1\" class=\"dataframe\">\n  <thead>\n    <tr style=\"text-align: right;\">\n      <th></th>\n      <th>2005_실적(건)</th>\n      <th>2005_구성비(%)</th>\n      <th>2006_실적(건)</th>\n      <th>2006_구성비(%)</th>\n      <th>2007_실적(건)</th>\n      <th>2007_구성비(%)</th>\n      <th>2008_실적(건)</th>\n      <th>2008_구성비(%)</th>\n      <th>2009_실적(건)</th>\n      <th>2009_구성비(%)</th>\n      <th>...</th>\n      <th>2015_실적(건)</th>\n      <th>2015_구성비(%)</th>\n      <th>2016_실적(건)</th>\n      <th>2016_구성비(%)</th>\n      <th>2017_실적(건)</th>\n      <th>2017_구성비(%)</th>\n      <th>2018_실적(건)</th>\n      <th>2018_구성비(%)</th>\n      <th>2019_실적(건)</th>\n      <th>2019_구성비(%)</th>\n    </tr>\n  </thead>\n  <tbody>\n    <tr>\n      <th>0</th>\n      <td>16231</td>\n      <td>11.7</td>\n      <td>25915</td>\n      <td>18.3</td>\n      <td>24385</td>\n      <td>18.9</td>\n      <td>26711</td>\n      <td>18.9</td>\n      <td>23268</td>\n      <td>14.1</td>\n      <td>...</td>\n      <td>26520</td>\n      <td>12.1</td>\n      <td>28816</td>\n      <td>14</td>\n      <td>26166</td>\n      <td>12.4</td>\n      <td>19484</td>\n      <td>9.6</td>\n      <td>22529</td>\n      <td>10.7</td>\n    </tr>\n    <tr>\n      <th>1</th>\n      <td>14392</td>\n      <td>12.3</td>\n      <td>22093</td>\n      <td>19.2</td>\n      <td>19469</td>\n      <td>18.9</td>\n      <td>20545</td>\n      <td>18.7</td>\n      <td>17408</td>\n      <td>14.2</td>\n      <td>...</td>\n      <td>17707</td>\n      <td>11.1</td>\n      <td>19690</td>\n      <td>12.7</td>\n      <td>17977</td>\n      <td>11.3</td>\n      <td>13471</td>\n      <td>8.6</td>\n      <td>14819</td>\n      <td>9.3</td>\n    </tr>\n    <tr>\n      <th>2</th>\n      <td>1839</td>\n      <td>8.8</td>\n      <td>3822</td>\n      <td>14.3</td>\n      <td>4916</td>\n      <td>18.7</td>\n      <td>6166</td>\n      <td>19.6</td>\n      <td>5860</td>\n      <td>13.8</td>\n      <td>...</td>\n      <td>8813</td>\n      <td>14.8</td>\n      <td>9126</td>\n      <td>18</td>\n      <td>8189</td>\n      <td>16</td>\n      <td>6013</td>\n      <td>12.7</td>\n      <td>7710</td>\n      <td>14.8</td>\n    </tr>\n  </tbody>\n</table>\n<p>3 rows × 30 columns</p>\n</div>"
     },
     "metadata": {},
     "execution_count": 21
    }
   ],
   "source": [
    "# 경기 데이터 \n",
    "gg=df[33:36]\n",
    "gg.head()"
   ]
  },
  {
   "source": [
    "### 강원"
   ],
   "cell_type": "markdown",
   "metadata": {}
  },
  {
   "cell_type": "code",
   "execution_count": 22,
   "metadata": {},
   "outputs": [
    {
     "output_type": "execute_result",
     "data": {
      "text/plain": [
       "  2005_실적(건) 2005_구성비(%) 2006_실적(건) 2006_구성비(%) 2007_실적(건) 2007_구성비(%)  \\\n",
       "0       5106         6.1       4597           6       5853         9.1   \n",
       "1       4076         5.4       3439         5.1       3814         6.9   \n",
       "2       1030        13.5       1158          13       2039        22.6   \n",
       "\n",
       "  2008_실적(건) 2008_구성비(%) 2009_실적(건) 2009_구성비(%)  ... 2015_실적(건) 2015_구성비(%)  \\\n",
       "0       6525         8.9       7081         8.9  ...      15713        10.5   \n",
       "1       4396         7.1       4484           7  ...      10187         8.8   \n",
       "2       2129        18.3       2597        16.8  ...       5526        16.5   \n",
       "\n",
       "  2016_실적(건) 2016_구성비(%) 2017_실적(건) 2017_구성비(%) 2018_실적(건) 2018_구성비(%)  \\\n",
       "0      14459         9.6      14079         9.1      14313         8.9   \n",
       "1       9344         7.6       8730         6.9       9248         6.9   \n",
       "2       5115        18.5       5349        19.4       5065          19   \n",
       "\n",
       "  2019_실적(건) 2019_구성비(%)  \n",
       "0      14245         9.3  \n",
       "1       8952           7  \n",
       "2       5293        20.2  \n",
       "\n",
       "[3 rows x 30 columns]"
      ],
      "text/html": "<div>\n<style scoped>\n    .dataframe tbody tr th:only-of-type {\n        vertical-align: middle;\n    }\n\n    .dataframe tbody tr th {\n        vertical-align: top;\n    }\n\n    .dataframe thead th {\n        text-align: right;\n    }\n</style>\n<table border=\"1\" class=\"dataframe\">\n  <thead>\n    <tr style=\"text-align: right;\">\n      <th></th>\n      <th>2005_실적(건)</th>\n      <th>2005_구성비(%)</th>\n      <th>2006_실적(건)</th>\n      <th>2006_구성비(%)</th>\n      <th>2007_실적(건)</th>\n      <th>2007_구성비(%)</th>\n      <th>2008_실적(건)</th>\n      <th>2008_구성비(%)</th>\n      <th>2009_실적(건)</th>\n      <th>2009_구성비(%)</th>\n      <th>...</th>\n      <th>2015_실적(건)</th>\n      <th>2015_구성비(%)</th>\n      <th>2016_실적(건)</th>\n      <th>2016_구성비(%)</th>\n      <th>2017_실적(건)</th>\n      <th>2017_구성비(%)</th>\n      <th>2018_실적(건)</th>\n      <th>2018_구성비(%)</th>\n      <th>2019_실적(건)</th>\n      <th>2019_구성비(%)</th>\n    </tr>\n  </thead>\n  <tbody>\n    <tr>\n      <th>0</th>\n      <td>5106</td>\n      <td>6.1</td>\n      <td>4597</td>\n      <td>6</td>\n      <td>5853</td>\n      <td>9.1</td>\n      <td>6525</td>\n      <td>8.9</td>\n      <td>7081</td>\n      <td>8.9</td>\n      <td>...</td>\n      <td>15713</td>\n      <td>10.5</td>\n      <td>14459</td>\n      <td>9.6</td>\n      <td>14079</td>\n      <td>9.1</td>\n      <td>14313</td>\n      <td>8.9</td>\n      <td>14245</td>\n      <td>9.3</td>\n    </tr>\n    <tr>\n      <th>1</th>\n      <td>4076</td>\n      <td>5.4</td>\n      <td>3439</td>\n      <td>5.1</td>\n      <td>3814</td>\n      <td>6.9</td>\n      <td>4396</td>\n      <td>7.1</td>\n      <td>4484</td>\n      <td>7</td>\n      <td>...</td>\n      <td>10187</td>\n      <td>8.8</td>\n      <td>9344</td>\n      <td>7.6</td>\n      <td>8730</td>\n      <td>6.9</td>\n      <td>9248</td>\n      <td>6.9</td>\n      <td>8952</td>\n      <td>7</td>\n    </tr>\n    <tr>\n      <th>2</th>\n      <td>1030</td>\n      <td>13.5</td>\n      <td>1158</td>\n      <td>13</td>\n      <td>2039</td>\n      <td>22.6</td>\n      <td>2129</td>\n      <td>18.3</td>\n      <td>2597</td>\n      <td>16.8</td>\n      <td>...</td>\n      <td>5526</td>\n      <td>16.5</td>\n      <td>5115</td>\n      <td>18.5</td>\n      <td>5349</td>\n      <td>19.4</td>\n      <td>5065</td>\n      <td>19</td>\n      <td>5293</td>\n      <td>20.2</td>\n    </tr>\n  </tbody>\n</table>\n<p>3 rows × 30 columns</p>\n</div>"
     },
     "metadata": {},
     "execution_count": 22
    }
   ],
   "source": [
    "# 강원 데이터 \n",
    "kangwon=df[36:39]\n",
    "kangwon.head()"
   ]
  },
  {
   "source": [
    "### 충북"
   ],
   "cell_type": "markdown",
   "metadata": {}
  },
  {
   "cell_type": "code",
   "execution_count": 23,
   "metadata": {},
   "outputs": [
    {
     "output_type": "execute_result",
     "data": {
      "text/plain": [
       "  2005_실적(건) 2005_구성비(%) 2006_실적(건) 2006_구성비(%) 2007_실적(건) 2007_구성비(%)  \\\n",
       "0      13132          17      13475        17.1      14847        20.4   \n",
       "1       9325        15.3       9821        15.9      10664        18.3   \n",
       "2       3807        22.9       3654        21.2       4183          29   \n",
       "\n",
       "  2008_실적(건) 2008_구성비(%) 2009_실적(건) 2009_구성비(%)  ... 2015_실적(건) 2015_구성비(%)  \\\n",
       "0      18939        22.3      17626        17.7  ...      16510        16.6   \n",
       "1      13647        20.3      13564        17.2  ...      11355        15.4   \n",
       "2       5292        29.7       4062        19.7  ...       5155        19.8   \n",
       "\n",
       "  2016_실적(건) 2016_구성비(%) 2017_실적(건) 2017_구성비(%) 2018_실적(건) 2018_구성비(%)  \\\n",
       "0      16332        18.3      15955        16.7      14001        14.9   \n",
       "1      10931        16.4      10102          14       9153        12.8   \n",
       "2       5401        23.9       5853        24.7       4848        21.7   \n",
       "\n",
       "  2019_실적(건) 2019_구성비(%)  \n",
       "0      15206        16.1  \n",
       "1       9631        13.7  \n",
       "2       5575        23.2  \n",
       "\n",
       "[3 rows x 30 columns]"
      ],
      "text/html": "<div>\n<style scoped>\n    .dataframe tbody tr th:only-of-type {\n        vertical-align: middle;\n    }\n\n    .dataframe tbody tr th {\n        vertical-align: top;\n    }\n\n    .dataframe thead th {\n        text-align: right;\n    }\n</style>\n<table border=\"1\" class=\"dataframe\">\n  <thead>\n    <tr style=\"text-align: right;\">\n      <th></th>\n      <th>2005_실적(건)</th>\n      <th>2005_구성비(%)</th>\n      <th>2006_실적(건)</th>\n      <th>2006_구성비(%)</th>\n      <th>2007_실적(건)</th>\n      <th>2007_구성비(%)</th>\n      <th>2008_실적(건)</th>\n      <th>2008_구성비(%)</th>\n      <th>2009_실적(건)</th>\n      <th>2009_구성비(%)</th>\n      <th>...</th>\n      <th>2015_실적(건)</th>\n      <th>2015_구성비(%)</th>\n      <th>2016_실적(건)</th>\n      <th>2016_구성비(%)</th>\n      <th>2017_실적(건)</th>\n      <th>2017_구성비(%)</th>\n      <th>2018_실적(건)</th>\n      <th>2018_구성비(%)</th>\n      <th>2019_실적(건)</th>\n      <th>2019_구성비(%)</th>\n    </tr>\n  </thead>\n  <tbody>\n    <tr>\n      <th>0</th>\n      <td>13132</td>\n      <td>17</td>\n      <td>13475</td>\n      <td>17.1</td>\n      <td>14847</td>\n      <td>20.4</td>\n      <td>18939</td>\n      <td>22.3</td>\n      <td>17626</td>\n      <td>17.7</td>\n      <td>...</td>\n      <td>16510</td>\n      <td>16.6</td>\n      <td>16332</td>\n      <td>18.3</td>\n      <td>15955</td>\n      <td>16.7</td>\n      <td>14001</td>\n      <td>14.9</td>\n      <td>15206</td>\n      <td>16.1</td>\n    </tr>\n    <tr>\n      <th>1</th>\n      <td>9325</td>\n      <td>15.3</td>\n      <td>9821</td>\n      <td>15.9</td>\n      <td>10664</td>\n      <td>18.3</td>\n      <td>13647</td>\n      <td>20.3</td>\n      <td>13564</td>\n      <td>17.2</td>\n      <td>...</td>\n      <td>11355</td>\n      <td>15.4</td>\n      <td>10931</td>\n      <td>16.4</td>\n      <td>10102</td>\n      <td>14</td>\n      <td>9153</td>\n      <td>12.8</td>\n      <td>9631</td>\n      <td>13.7</td>\n    </tr>\n    <tr>\n      <th>2</th>\n      <td>3807</td>\n      <td>22.9</td>\n      <td>3654</td>\n      <td>21.2</td>\n      <td>4183</td>\n      <td>29</td>\n      <td>5292</td>\n      <td>29.7</td>\n      <td>4062</td>\n      <td>19.7</td>\n      <td>...</td>\n      <td>5155</td>\n      <td>19.8</td>\n      <td>5401</td>\n      <td>23.9</td>\n      <td>5853</td>\n      <td>24.7</td>\n      <td>4848</td>\n      <td>21.7</td>\n      <td>5575</td>\n      <td>23.2</td>\n    </tr>\n  </tbody>\n</table>\n<p>3 rows × 30 columns</p>\n</div>"
     },
     "metadata": {},
     "execution_count": 23
    }
   ],
   "source": [
    "# 충북 데이터 \n",
    "chungbuk=df[39:42]\n",
    "chungbuk.head()"
   ]
  },
  {
   "source": [
    "### 대전"
   ],
   "cell_type": "markdown",
   "metadata": {}
  },
  {
   "cell_type": "code",
   "execution_count": 24,
   "metadata": {
    "scrolled": true
   },
   "outputs": [
    {
     "output_type": "execute_result",
     "data": {
      "text/plain": [
       "  2005_실적(건) 2005_구성비(%) 2006_실적(건) 2006_구성비(%) 2007_실적(건) 2007_구성비(%)  \\\n",
       "0      20940          13      29649        20.2      30255        20.6   \n",
       "1      17240        12.3      22054        18.9      21976          19   \n",
       "2       3700        17.9       7595        25.2       8279        26.6   \n",
       "\n",
       "  2008_실적(건) 2008_구성비(%) 2009_실적(건) 2009_구성비(%)  ... 2015_실적(건) 2015_구성비(%)  \\\n",
       "0      32573        18.8      22487        12.3  ...      34526        13.9   \n",
       "1      23570        17.7      16890        12.1  ...      23843        13.2   \n",
       "2       9003        22.3       5597          13  ...      10683        15.6   \n",
       "\n",
       "  2016_실적(건) 2016_구성비(%) 2017_실적(건) 2017_구성비(%) 2018_실적(건) 2018_구성비(%)  \\\n",
       "0      38552        16.3      36675        15.2      38233        15.4   \n",
       "1      26326        15.4      24624        14.2      24418        13.7   \n",
       "2      12226        18.8      12051        17.8      13815        19.8   \n",
       "\n",
       "  2019_실적(건) 2019_구성비(%)  \n",
       "0      38129        15.3  \n",
       "1      24108        13.7  \n",
       "2      14021        19.4  \n",
       "\n",
       "[3 rows x 30 columns]"
      ],
      "text/html": "<div>\n<style scoped>\n    .dataframe tbody tr th:only-of-type {\n        vertical-align: middle;\n    }\n\n    .dataframe tbody tr th {\n        vertical-align: top;\n    }\n\n    .dataframe thead th {\n        text-align: right;\n    }\n</style>\n<table border=\"1\" class=\"dataframe\">\n  <thead>\n    <tr style=\"text-align: right;\">\n      <th></th>\n      <th>2005_실적(건)</th>\n      <th>2005_구성비(%)</th>\n      <th>2006_실적(건)</th>\n      <th>2006_구성비(%)</th>\n      <th>2007_실적(건)</th>\n      <th>2007_구성비(%)</th>\n      <th>2008_실적(건)</th>\n      <th>2008_구성비(%)</th>\n      <th>2009_실적(건)</th>\n      <th>2009_구성비(%)</th>\n      <th>...</th>\n      <th>2015_실적(건)</th>\n      <th>2015_구성비(%)</th>\n      <th>2016_실적(건)</th>\n      <th>2016_구성비(%)</th>\n      <th>2017_실적(건)</th>\n      <th>2017_구성비(%)</th>\n      <th>2018_실적(건)</th>\n      <th>2018_구성비(%)</th>\n      <th>2019_실적(건)</th>\n      <th>2019_구성비(%)</th>\n    </tr>\n  </thead>\n  <tbody>\n    <tr>\n      <th>0</th>\n      <td>20940</td>\n      <td>13</td>\n      <td>29649</td>\n      <td>20.2</td>\n      <td>30255</td>\n      <td>20.6</td>\n      <td>32573</td>\n      <td>18.8</td>\n      <td>22487</td>\n      <td>12.3</td>\n      <td>...</td>\n      <td>34526</td>\n      <td>13.9</td>\n      <td>38552</td>\n      <td>16.3</td>\n      <td>36675</td>\n      <td>15.2</td>\n      <td>38233</td>\n      <td>15.4</td>\n      <td>38129</td>\n      <td>15.3</td>\n    </tr>\n    <tr>\n      <th>1</th>\n      <td>17240</td>\n      <td>12.3</td>\n      <td>22054</td>\n      <td>18.9</td>\n      <td>21976</td>\n      <td>19</td>\n      <td>23570</td>\n      <td>17.7</td>\n      <td>16890</td>\n      <td>12.1</td>\n      <td>...</td>\n      <td>23843</td>\n      <td>13.2</td>\n      <td>26326</td>\n      <td>15.4</td>\n      <td>24624</td>\n      <td>14.2</td>\n      <td>24418</td>\n      <td>13.7</td>\n      <td>24108</td>\n      <td>13.7</td>\n    </tr>\n    <tr>\n      <th>2</th>\n      <td>3700</td>\n      <td>17.9</td>\n      <td>7595</td>\n      <td>25.2</td>\n      <td>8279</td>\n      <td>26.6</td>\n      <td>9003</td>\n      <td>22.3</td>\n      <td>5597</td>\n      <td>13</td>\n      <td>...</td>\n      <td>10683</td>\n      <td>15.6</td>\n      <td>12226</td>\n      <td>18.8</td>\n      <td>12051</td>\n      <td>17.8</td>\n      <td>13815</td>\n      <td>19.8</td>\n      <td>14021</td>\n      <td>19.4</td>\n    </tr>\n  </tbody>\n</table>\n<p>3 rows × 30 columns</p>\n</div>"
     },
     "metadata": {},
     "execution_count": 24
    }
   ],
   "source": [
    "# 대전\n",
    "daejeon=df[42:45]\n",
    "daejeon.head()"
   ]
  },
  {
   "source": [
    "### 전북"
   ],
   "cell_type": "markdown",
   "metadata": {}
  },
  {
   "cell_type": "code",
   "execution_count": 25,
   "metadata": {},
   "outputs": [
    {
     "output_type": "execute_result",
     "data": {
      "text/plain": [
       "  2005_실적(건) 2005_구성비(%) 2006_실적(건) 2006_구성비(%) 2007_실적(건) 2007_구성비(%)  \\\n",
       "0      22099        18.3      23615        19.9      19676          20   \n",
       "1      15475        16.2      16101        18.1      13345        17.6   \n",
       "2       6624          26       7514        25.2       6331        28.2   \n",
       "\n",
       "  2008_실적(건) 2008_구성비(%) 2009_실적(건) 2009_구성비(%)  ... 2015_실적(건) 2015_구성비(%)  \\\n",
       "0      20146        18.7      21070        17.4  ...      17056        13.2   \n",
       "1      14368        17.6      15196        16.6  ...      11508        12.1   \n",
       "2       5778        22.2       5874        19.8  ...       5548        16.3   \n",
       "\n",
       "  2016_실적(건) 2016_구성비(%) 2017_실적(건) 2017_구성비(%) 2018_실적(건) 2018_구성비(%)  \\\n",
       "0      19282        16.6      20622        18.1      20957        19.3   \n",
       "1      13053        14.9      14477        16.6      14388        17.4   \n",
       "2       6229        21.9       6145        22.7       6569        25.2   \n",
       "\n",
       "  2019_실적(건) 2019_구성비(%)  \n",
       "0      21421        19.7  \n",
       "1      14513        17.8  \n",
       "2       6908        25.1  \n",
       "\n",
       "[3 rows x 30 columns]"
      ],
      "text/html": "<div>\n<style scoped>\n    .dataframe tbody tr th:only-of-type {\n        vertical-align: middle;\n    }\n\n    .dataframe tbody tr th {\n        vertical-align: top;\n    }\n\n    .dataframe thead th {\n        text-align: right;\n    }\n</style>\n<table border=\"1\" class=\"dataframe\">\n  <thead>\n    <tr style=\"text-align: right;\">\n      <th></th>\n      <th>2005_실적(건)</th>\n      <th>2005_구성비(%)</th>\n      <th>2006_실적(건)</th>\n      <th>2006_구성비(%)</th>\n      <th>2007_실적(건)</th>\n      <th>2007_구성비(%)</th>\n      <th>2008_실적(건)</th>\n      <th>2008_구성비(%)</th>\n      <th>2009_실적(건)</th>\n      <th>2009_구성비(%)</th>\n      <th>...</th>\n      <th>2015_실적(건)</th>\n      <th>2015_구성비(%)</th>\n      <th>2016_실적(건)</th>\n      <th>2016_구성비(%)</th>\n      <th>2017_실적(건)</th>\n      <th>2017_구성비(%)</th>\n      <th>2018_실적(건)</th>\n      <th>2018_구성비(%)</th>\n      <th>2019_실적(건)</th>\n      <th>2019_구성비(%)</th>\n    </tr>\n  </thead>\n  <tbody>\n    <tr>\n      <th>0</th>\n      <td>22099</td>\n      <td>18.3</td>\n      <td>23615</td>\n      <td>19.9</td>\n      <td>19676</td>\n      <td>20</td>\n      <td>20146</td>\n      <td>18.7</td>\n      <td>21070</td>\n      <td>17.4</td>\n      <td>...</td>\n      <td>17056</td>\n      <td>13.2</td>\n      <td>19282</td>\n      <td>16.6</td>\n      <td>20622</td>\n      <td>18.1</td>\n      <td>20957</td>\n      <td>19.3</td>\n      <td>21421</td>\n      <td>19.7</td>\n    </tr>\n    <tr>\n      <th>1</th>\n      <td>15475</td>\n      <td>16.2</td>\n      <td>16101</td>\n      <td>18.1</td>\n      <td>13345</td>\n      <td>17.6</td>\n      <td>14368</td>\n      <td>17.6</td>\n      <td>15196</td>\n      <td>16.6</td>\n      <td>...</td>\n      <td>11508</td>\n      <td>12.1</td>\n      <td>13053</td>\n      <td>14.9</td>\n      <td>14477</td>\n      <td>16.6</td>\n      <td>14388</td>\n      <td>17.4</td>\n      <td>14513</td>\n      <td>17.8</td>\n    </tr>\n    <tr>\n      <th>2</th>\n      <td>6624</td>\n      <td>26</td>\n      <td>7514</td>\n      <td>25.2</td>\n      <td>6331</td>\n      <td>28.2</td>\n      <td>5778</td>\n      <td>22.2</td>\n      <td>5874</td>\n      <td>19.8</td>\n      <td>...</td>\n      <td>5548</td>\n      <td>16.3</td>\n      <td>6229</td>\n      <td>21.9</td>\n      <td>6145</td>\n      <td>22.7</td>\n      <td>6569</td>\n      <td>25.2</td>\n      <td>6908</td>\n      <td>25.1</td>\n    </tr>\n  </tbody>\n</table>\n<p>3 rows × 30 columns</p>\n</div>"
     },
     "metadata": {},
     "execution_count": 25
    }
   ],
   "source": [
    "# 전북\n",
    "jeonbuk=df[45:48]\n",
    "jeonbuk.head()"
   ]
  },
  {
   "source": [
    "### 광주"
   ],
   "cell_type": "markdown",
   "metadata": {}
  },
  {
   "cell_type": "code",
   "execution_count": 26,
   "metadata": {},
   "outputs": [
    {
     "output_type": "execute_result",
     "data": {
      "text/plain": [
       "  2005_실적(건) 2005_구성비(%) 2006_실적(건) 2006_구성비(%) 2007_실적(건) 2007_구성비(%)  \\\n",
       "0      32353        18.6      31467        15.7      31324        17.6   \n",
       "1      20559        15.6      20422        14.1      19580        15.6   \n",
       "2      11794        27.9      11045        19.9      11744        22.5   \n",
       "\n",
       "  2008_실적(건) 2008_구성비(%) 2009_실적(건) 2009_구성비(%)  ... 2015_실적(건) 2015_구성비(%)  \\\n",
       "0      35756        18.4      30830        15.3  ...      25774        11.6   \n",
       "1      22260        16.9      20354        14.8  ...      16594        11.7   \n",
       "2      13496        21.4      10476        16.3  ...       9180        11.5   \n",
       "\n",
       "  2016_실적(건) 2016_구성비(%) 2017_실적(건) 2017_구성비(%) 2018_실적(건) 2018_구성비(%)  \\\n",
       "0      32533        16.1      34034        15.5      29612        14.3   \n",
       "1      20659        15.5      21714        14.7      19262        13.6   \n",
       "2      11874        17.2      12320          17      10350        15.8   \n",
       "\n",
       "  2019_실적(건) 2019_구성비(%)  \n",
       "0      32618        15.8  \n",
       "1      21001        14.8  \n",
       "2      11617        17.9  \n",
       "\n",
       "[3 rows x 30 columns]"
      ],
      "text/html": "<div>\n<style scoped>\n    .dataframe tbody tr th:only-of-type {\n        vertical-align: middle;\n    }\n\n    .dataframe tbody tr th {\n        vertical-align: top;\n    }\n\n    .dataframe thead th {\n        text-align: right;\n    }\n</style>\n<table border=\"1\" class=\"dataframe\">\n  <thead>\n    <tr style=\"text-align: right;\">\n      <th></th>\n      <th>2005_실적(건)</th>\n      <th>2005_구성비(%)</th>\n      <th>2006_실적(건)</th>\n      <th>2006_구성비(%)</th>\n      <th>2007_실적(건)</th>\n      <th>2007_구성비(%)</th>\n      <th>2008_실적(건)</th>\n      <th>2008_구성비(%)</th>\n      <th>2009_실적(건)</th>\n      <th>2009_구성비(%)</th>\n      <th>...</th>\n      <th>2015_실적(건)</th>\n      <th>2015_구성비(%)</th>\n      <th>2016_실적(건)</th>\n      <th>2016_구성비(%)</th>\n      <th>2017_실적(건)</th>\n      <th>2017_구성비(%)</th>\n      <th>2018_실적(건)</th>\n      <th>2018_구성비(%)</th>\n      <th>2019_실적(건)</th>\n      <th>2019_구성비(%)</th>\n    </tr>\n  </thead>\n  <tbody>\n    <tr>\n      <th>0</th>\n      <td>32353</td>\n      <td>18.6</td>\n      <td>31467</td>\n      <td>15.7</td>\n      <td>31324</td>\n      <td>17.6</td>\n      <td>35756</td>\n      <td>18.4</td>\n      <td>30830</td>\n      <td>15.3</td>\n      <td>...</td>\n      <td>25774</td>\n      <td>11.6</td>\n      <td>32533</td>\n      <td>16.1</td>\n      <td>34034</td>\n      <td>15.5</td>\n      <td>29612</td>\n      <td>14.3</td>\n      <td>32618</td>\n      <td>15.8</td>\n    </tr>\n    <tr>\n      <th>1</th>\n      <td>20559</td>\n      <td>15.6</td>\n      <td>20422</td>\n      <td>14.1</td>\n      <td>19580</td>\n      <td>15.6</td>\n      <td>22260</td>\n      <td>16.9</td>\n      <td>20354</td>\n      <td>14.8</td>\n      <td>...</td>\n      <td>16594</td>\n      <td>11.7</td>\n      <td>20659</td>\n      <td>15.5</td>\n      <td>21714</td>\n      <td>14.7</td>\n      <td>19262</td>\n      <td>13.6</td>\n      <td>21001</td>\n      <td>14.8</td>\n    </tr>\n    <tr>\n      <th>2</th>\n      <td>11794</td>\n      <td>27.9</td>\n      <td>11045</td>\n      <td>19.9</td>\n      <td>11744</td>\n      <td>22.5</td>\n      <td>13496</td>\n      <td>21.4</td>\n      <td>10476</td>\n      <td>16.3</td>\n      <td>...</td>\n      <td>9180</td>\n      <td>11.5</td>\n      <td>11874</td>\n      <td>17.2</td>\n      <td>12320</td>\n      <td>17</td>\n      <td>10350</td>\n      <td>15.8</td>\n      <td>11617</td>\n      <td>17.9</td>\n    </tr>\n  </tbody>\n</table>\n<p>3 rows × 30 columns</p>\n</div>"
     },
     "metadata": {},
     "execution_count": 26
    }
   ],
   "source": [
    "# 광주\n",
    "gwanju=df[48:51]\n",
    "gwanju.head()"
   ]
  },
  {
   "source": [
    "### 경남"
   ],
   "cell_type": "markdown",
   "metadata": {}
  },
  {
   "cell_type": "code",
   "execution_count": 27,
   "metadata": {
    "scrolled": true
   },
   "outputs": [
    {
     "output_type": "execute_result",
     "data": {
      "text/plain": [
       "  2005_실적(건) 2005_구성비(%) 2006_실적(건) 2006_구성비(%) 2007_실적(건) 2007_구성비(%)  \\\n",
       "0      10494        10.4      13523        13.2      13382        14.6   \n",
       "1       8246         9.3      10432        11.9       8500        11.3   \n",
       "2       2248        18.2       3091        20.5       4882        29.8   \n",
       "\n",
       "  2008_실적(건) 2008_구성비(%) 2009_실적(건) 2009_구성비(%)  ... 2015_실적(건) 2015_구성비(%)  \\\n",
       "0      17124        16.8      15400        13.4  ...      18454        13.6   \n",
       "1      13321        15.8      11427        12.2  ...      13501        12.7   \n",
       "2       3803        21.5       3973        18.9  ...       4953        16.8   \n",
       "\n",
       "  2016_실적(건) 2016_구성비(%) 2017_실적(건) 2017_구성비(%) 2018_실적(건) 2018_구성비(%)  \\\n",
       "0      21218        16.6      25080        19.2      26416        19.6   \n",
       "1      15440        15.4      18244          18      18350        17.8   \n",
       "2       5778        20.9       6836        23.5       8066        25.3   \n",
       "\n",
       "  2019_실적(건) 2019_구성비(%)  \n",
       "0      26940        20.3  \n",
       "1      18809        18.6  \n",
       "2       8131        25.8  \n",
       "\n",
       "[3 rows x 30 columns]"
      ],
      "text/html": "<div>\n<style scoped>\n    .dataframe tbody tr th:only-of-type {\n        vertical-align: middle;\n    }\n\n    .dataframe tbody tr th {\n        vertical-align: top;\n    }\n\n    .dataframe thead th {\n        text-align: right;\n    }\n</style>\n<table border=\"1\" class=\"dataframe\">\n  <thead>\n    <tr style=\"text-align: right;\">\n      <th></th>\n      <th>2005_실적(건)</th>\n      <th>2005_구성비(%)</th>\n      <th>2006_실적(건)</th>\n      <th>2006_구성비(%)</th>\n      <th>2007_실적(건)</th>\n      <th>2007_구성비(%)</th>\n      <th>2008_실적(건)</th>\n      <th>2008_구성비(%)</th>\n      <th>2009_실적(건)</th>\n      <th>2009_구성비(%)</th>\n      <th>...</th>\n      <th>2015_실적(건)</th>\n      <th>2015_구성비(%)</th>\n      <th>2016_실적(건)</th>\n      <th>2016_구성비(%)</th>\n      <th>2017_실적(건)</th>\n      <th>2017_구성비(%)</th>\n      <th>2018_실적(건)</th>\n      <th>2018_구성비(%)</th>\n      <th>2019_실적(건)</th>\n      <th>2019_구성비(%)</th>\n    </tr>\n  </thead>\n  <tbody>\n    <tr>\n      <th>0</th>\n      <td>10494</td>\n      <td>10.4</td>\n      <td>13523</td>\n      <td>13.2</td>\n      <td>13382</td>\n      <td>14.6</td>\n      <td>17124</td>\n      <td>16.8</td>\n      <td>15400</td>\n      <td>13.4</td>\n      <td>...</td>\n      <td>18454</td>\n      <td>13.6</td>\n      <td>21218</td>\n      <td>16.6</td>\n      <td>25080</td>\n      <td>19.2</td>\n      <td>26416</td>\n      <td>19.6</td>\n      <td>26940</td>\n      <td>20.3</td>\n    </tr>\n    <tr>\n      <th>1</th>\n      <td>8246</td>\n      <td>9.3</td>\n      <td>10432</td>\n      <td>11.9</td>\n      <td>8500</td>\n      <td>11.3</td>\n      <td>13321</td>\n      <td>15.8</td>\n      <td>11427</td>\n      <td>12.2</td>\n      <td>...</td>\n      <td>13501</td>\n      <td>12.7</td>\n      <td>15440</td>\n      <td>15.4</td>\n      <td>18244</td>\n      <td>18</td>\n      <td>18350</td>\n      <td>17.8</td>\n      <td>18809</td>\n      <td>18.6</td>\n    </tr>\n    <tr>\n      <th>2</th>\n      <td>2248</td>\n      <td>18.2</td>\n      <td>3091</td>\n      <td>20.5</td>\n      <td>4882</td>\n      <td>29.8</td>\n      <td>3803</td>\n      <td>21.5</td>\n      <td>3973</td>\n      <td>18.9</td>\n      <td>...</td>\n      <td>4953</td>\n      <td>16.8</td>\n      <td>5778</td>\n      <td>20.9</td>\n      <td>6836</td>\n      <td>23.5</td>\n      <td>8066</td>\n      <td>25.3</td>\n      <td>8131</td>\n      <td>25.8</td>\n    </tr>\n  </tbody>\n</table>\n<p>3 rows × 30 columns</p>\n</div>"
     },
     "metadata": {},
     "execution_count": 27
    }
   ],
   "source": [
    "# 경남\n",
    "gyeongnam=df[51:54]\n",
    "gyeongnam.head()"
   ]
  },
  {
   "source": [
    "### 제주"
   ],
   "cell_type": "markdown",
   "metadata": {}
  },
  {
   "cell_type": "code",
   "execution_count": 29,
   "metadata": {},
   "outputs": [
    {
     "output_type": "execute_result",
     "data": {
      "text/plain": [
       "  2005_실적(건) 2005_구성비(%) 2006_실적(건) 2006_구성비(%) 2007_실적(건) 2007_구성비(%)  \\\n",
       "0       4691        14.8       5891        19.8       6336          23   \n",
       "1       3405        13.6       4220        17.8       4391        20.4   \n",
       "2       1286        19.2       1671        27.8       1945        32.3   \n",
       "\n",
       "  2008_실적(건) 2008_구성비(%) 2009_실적(건) 2009_구성비(%)  ... 2015_실적(건) 2015_구성비(%)  \\\n",
       "0       6583        20.2       5693        15.4  ...       6852        16.8   \n",
       "1       4434        19.1       4069        16.3  ...       4374          17   \n",
       "2       2149          23       1624        13.6  ...       2478        16.5   \n",
       "\n",
       "  2016_실적(건) 2016_구성비(%) 2017_실적(건) 2017_구성비(%) 2018_실적(건) 2018_구성비(%)  \\\n",
       "0       7276        20.3       6904        18.3       7625        22.3   \n",
       "1       4699        19.8       4152        16.1       5043        20.8   \n",
       "2       2577        21.3       2752        22.8       2582        25.7   \n",
       "\n",
       "  2019_실적(건) 2019_구성비(%)  \n",
       "0       7421        20.6  \n",
       "1       4580        18.6  \n",
       "2       2841        25.1  \n",
       "\n",
       "[3 rows x 30 columns]"
      ],
      "text/html": "<div>\n<style scoped>\n    .dataframe tbody tr th:only-of-type {\n        vertical-align: middle;\n    }\n\n    .dataframe tbody tr th {\n        vertical-align: top;\n    }\n\n    .dataframe thead th {\n        text-align: right;\n    }\n</style>\n<table border=\"1\" class=\"dataframe\">\n  <thead>\n    <tr style=\"text-align: right;\">\n      <th></th>\n      <th>2005_실적(건)</th>\n      <th>2005_구성비(%)</th>\n      <th>2006_실적(건)</th>\n      <th>2006_구성비(%)</th>\n      <th>2007_실적(건)</th>\n      <th>2007_구성비(%)</th>\n      <th>2008_실적(건)</th>\n      <th>2008_구성비(%)</th>\n      <th>2009_실적(건)</th>\n      <th>2009_구성비(%)</th>\n      <th>...</th>\n      <th>2015_실적(건)</th>\n      <th>2015_구성비(%)</th>\n      <th>2016_실적(건)</th>\n      <th>2016_구성비(%)</th>\n      <th>2017_실적(건)</th>\n      <th>2017_구성비(%)</th>\n      <th>2018_실적(건)</th>\n      <th>2018_구성비(%)</th>\n      <th>2019_실적(건)</th>\n      <th>2019_구성비(%)</th>\n    </tr>\n  </thead>\n  <tbody>\n    <tr>\n      <th>0</th>\n      <td>4691</td>\n      <td>14.8</td>\n      <td>5891</td>\n      <td>19.8</td>\n      <td>6336</td>\n      <td>23</td>\n      <td>6583</td>\n      <td>20.2</td>\n      <td>5693</td>\n      <td>15.4</td>\n      <td>...</td>\n      <td>6852</td>\n      <td>16.8</td>\n      <td>7276</td>\n      <td>20.3</td>\n      <td>6904</td>\n      <td>18.3</td>\n      <td>7625</td>\n      <td>22.3</td>\n      <td>7421</td>\n      <td>20.6</td>\n    </tr>\n    <tr>\n      <th>1</th>\n      <td>3405</td>\n      <td>13.6</td>\n      <td>4220</td>\n      <td>17.8</td>\n      <td>4391</td>\n      <td>20.4</td>\n      <td>4434</td>\n      <td>19.1</td>\n      <td>4069</td>\n      <td>16.3</td>\n      <td>...</td>\n      <td>4374</td>\n      <td>17</td>\n      <td>4699</td>\n      <td>19.8</td>\n      <td>4152</td>\n      <td>16.1</td>\n      <td>5043</td>\n      <td>20.8</td>\n      <td>4580</td>\n      <td>18.6</td>\n    </tr>\n    <tr>\n      <th>2</th>\n      <td>1286</td>\n      <td>19.2</td>\n      <td>1671</td>\n      <td>27.8</td>\n      <td>1945</td>\n      <td>32.3</td>\n      <td>2149</td>\n      <td>23</td>\n      <td>1624</td>\n      <td>13.6</td>\n      <td>...</td>\n      <td>2478</td>\n      <td>16.5</td>\n      <td>2577</td>\n      <td>21.3</td>\n      <td>2752</td>\n      <td>22.8</td>\n      <td>2582</td>\n      <td>25.7</td>\n      <td>2841</td>\n      <td>25.1</td>\n    </tr>\n  </tbody>\n</table>\n<p>3 rows × 30 columns</p>\n</div>"
     },
     "metadata": {},
     "execution_count": 29
    }
   ],
   "source": [
    "# 제주\n",
    "jeju=df[54:57]\n",
    "jeju.head()"
   ]
  }
 ],
 "metadata": {
  "kernelspec": {
   "display_name": "Python 3",
   "language": "python",
   "name": "python3"
  },
  "language_info": {
   "codemirror_mode": {
    "name": "ipython",
    "version": 3
   },
   "file_extension": ".py",
   "mimetype": "text/x-python",
   "name": "python",
   "nbconvert_exporter": "python",
   "pygments_lexer": "ipython3",
   "version": "3.8.5-final"
  }
 },
 "nbformat": 4,
 "nbformat_minor": 4
}